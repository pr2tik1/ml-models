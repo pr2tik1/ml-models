{
 "cells": [
  {
   "cell_type": "markdown",
   "metadata": {},
   "source": [
    "#  Preprocessing for numerical features\n",
    "\n",
    "> Notes on second part of the predictive modeling pipeline module from sklearn MOOC.\n",
    "\n",
    "- toc:true\n",
    "- branch: master\n",
    "- badges: true\n",
    "- author: Pratik Kumar\n",
    "- use_plotly: true\n",
    "- categories: [Python, sklearn, Data Visualization]"
   ]
  },
  {
   "cell_type": "markdown",
   "metadata": {},
   "source": [
    "## Introduction \n",
    "\n",
    "In this post we will be continuing <b>The Predictive Modeling Pipeline</b> module of the [Scikit-learn MOOC](https://inria.github.io/scikit-learn-mooc/index.html). The post discusses on the preprocessing of numerical data. We will be using scikit-learn pipeline to preprocess the data so that it can be used for training the model.\n",
    "\n",
    "The topics covered in the subsection are as follows,\n",
    "\n",
    "(C) Data Preparation <br>\n",
    "(D) Model Fitting and Preprocessing\n",
    "\n"
   ]
  },
  {
   "cell_type": "markdown",
   "metadata": {},
   "source": [
    "## (C) Data Preparation \n",
    "---\n",
    "\n",
    "We will be using  the full adult census dataset. Specifically, we will use the numerical columns of dataframe which are the columns with values as numerical data types."
   ]
  },
  {
   "cell_type": "code",
   "execution_count": 135,
   "metadata": {},
   "outputs": [
    {
     "data": {
      "text/html": [
       "<div>\n",
       "<style scoped>\n",
       "    .dataframe tbody tr th:only-of-type {\n",
       "        vertical-align: middle;\n",
       "    }\n",
       "\n",
       "    .dataframe tbody tr th {\n",
       "        vertical-align: top;\n",
       "    }\n",
       "\n",
       "    .dataframe thead th {\n",
       "        text-align: right;\n",
       "    }\n",
       "</style>\n",
       "<table border=\"1\" class=\"dataframe\">\n",
       "  <thead>\n",
       "    <tr style=\"text-align: right;\">\n",
       "      <th></th>\n",
       "      <th>age</th>\n",
       "      <th>workclass</th>\n",
       "      <th>fnlwgt</th>\n",
       "      <th>education</th>\n",
       "    </tr>\n",
       "  </thead>\n",
       "  <tbody>\n",
       "    <tr>\n",
       "      <th>0</th>\n",
       "      <td>25</td>\n",
       "      <td>Private</td>\n",
       "      <td>226802</td>\n",
       "      <td>11th</td>\n",
       "    </tr>\n",
       "    <tr>\n",
       "      <th>1</th>\n",
       "      <td>38</td>\n",
       "      <td>Private</td>\n",
       "      <td>89814</td>\n",
       "      <td>HS-grad</td>\n",
       "    </tr>\n",
       "    <tr>\n",
       "      <th>2</th>\n",
       "      <td>28</td>\n",
       "      <td>Local-gov</td>\n",
       "      <td>336951</td>\n",
       "      <td>Assoc-acdm</td>\n",
       "    </tr>\n",
       "    <tr>\n",
       "      <th>3</th>\n",
       "      <td>44</td>\n",
       "      <td>Private</td>\n",
       "      <td>160323</td>\n",
       "      <td>Some-college</td>\n",
       "    </tr>\n",
       "    <tr>\n",
       "      <th>4</th>\n",
       "      <td>18</td>\n",
       "      <td>?</td>\n",
       "      <td>103497</td>\n",
       "      <td>Some-college</td>\n",
       "    </tr>\n",
       "  </tbody>\n",
       "</table>\n",
       "</div>"
      ],
      "text/plain": [
       "   age   workclass  fnlwgt      education\n",
       "0   25     Private  226802           11th\n",
       "1   38     Private   89814        HS-grad\n",
       "2   28   Local-gov  336951     Assoc-acdm\n",
       "3   44     Private  160323   Some-college\n",
       "4   18           ?  103497   Some-college"
      ]
     },
     "metadata": {},
     "output_type": "display_data"
    },
    {
     "data": {
      "text/html": [
       "<div>\n",
       "<style scoped>\n",
       "    .dataframe tbody tr th:only-of-type {\n",
       "        vertical-align: middle;\n",
       "    }\n",
       "\n",
       "    .dataframe tbody tr th {\n",
       "        vertical-align: top;\n",
       "    }\n",
       "\n",
       "    .dataframe thead th {\n",
       "        text-align: right;\n",
       "    }\n",
       "</style>\n",
       "<table border=\"1\" class=\"dataframe\">\n",
       "  <thead>\n",
       "    <tr style=\"text-align: right;\">\n",
       "      <th></th>\n",
       "      <th>education-num</th>\n",
       "      <th>marital-status</th>\n",
       "      <th>occupation</th>\n",
       "      <th>relationship</th>\n",
       "    </tr>\n",
       "  </thead>\n",
       "  <tbody>\n",
       "    <tr>\n",
       "      <th>0</th>\n",
       "      <td>7</td>\n",
       "      <td>Never-married</td>\n",
       "      <td>Machine-op-inspct</td>\n",
       "      <td>Own-child</td>\n",
       "    </tr>\n",
       "    <tr>\n",
       "      <th>1</th>\n",
       "      <td>9</td>\n",
       "      <td>Married-civ-spouse</td>\n",
       "      <td>Farming-fishing</td>\n",
       "      <td>Husband</td>\n",
       "    </tr>\n",
       "    <tr>\n",
       "      <th>2</th>\n",
       "      <td>12</td>\n",
       "      <td>Married-civ-spouse</td>\n",
       "      <td>Protective-serv</td>\n",
       "      <td>Husband</td>\n",
       "    </tr>\n",
       "    <tr>\n",
       "      <th>3</th>\n",
       "      <td>10</td>\n",
       "      <td>Married-civ-spouse</td>\n",
       "      <td>Machine-op-inspct</td>\n",
       "      <td>Husband</td>\n",
       "    </tr>\n",
       "    <tr>\n",
       "      <th>4</th>\n",
       "      <td>10</td>\n",
       "      <td>Never-married</td>\n",
       "      <td>?</td>\n",
       "      <td>Own-child</td>\n",
       "    </tr>\n",
       "  </tbody>\n",
       "</table>\n",
       "</div>"
      ],
      "text/plain": [
       "   education-num       marital-status          occupation relationship\n",
       "0              7        Never-married   Machine-op-inspct    Own-child\n",
       "1              9   Married-civ-spouse     Farming-fishing      Husband\n",
       "2             12   Married-civ-spouse     Protective-serv      Husband\n",
       "3             10   Married-civ-spouse   Machine-op-inspct      Husband\n",
       "4             10        Never-married                   ?    Own-child"
      ]
     },
     "metadata": {},
     "output_type": "display_data"
    },
    {
     "data": {
      "text/html": [
       "<div>\n",
       "<style scoped>\n",
       "    .dataframe tbody tr th:only-of-type {\n",
       "        vertical-align: middle;\n",
       "    }\n",
       "\n",
       "    .dataframe tbody tr th {\n",
       "        vertical-align: top;\n",
       "    }\n",
       "\n",
       "    .dataframe thead th {\n",
       "        text-align: right;\n",
       "    }\n",
       "</style>\n",
       "<table border=\"1\" class=\"dataframe\">\n",
       "  <thead>\n",
       "    <tr style=\"text-align: right;\">\n",
       "      <th></th>\n",
       "      <th>race</th>\n",
       "      <th>sex</th>\n",
       "      <th>capital-gain</th>\n",
       "      <th>capital-loss</th>\n",
       "      <th>hours-per-week</th>\n",
       "      <th>native-country</th>\n",
       "      <th>class</th>\n",
       "    </tr>\n",
       "  </thead>\n",
       "  <tbody>\n",
       "    <tr>\n",
       "      <th>0</th>\n",
       "      <td>Black</td>\n",
       "      <td>Male</td>\n",
       "      <td>0</td>\n",
       "      <td>0</td>\n",
       "      <td>40</td>\n",
       "      <td>United-States</td>\n",
       "      <td>&lt;=50K</td>\n",
       "    </tr>\n",
       "    <tr>\n",
       "      <th>1</th>\n",
       "      <td>White</td>\n",
       "      <td>Male</td>\n",
       "      <td>0</td>\n",
       "      <td>0</td>\n",
       "      <td>50</td>\n",
       "      <td>United-States</td>\n",
       "      <td>&lt;=50K</td>\n",
       "    </tr>\n",
       "    <tr>\n",
       "      <th>2</th>\n",
       "      <td>White</td>\n",
       "      <td>Male</td>\n",
       "      <td>0</td>\n",
       "      <td>0</td>\n",
       "      <td>40</td>\n",
       "      <td>United-States</td>\n",
       "      <td>&gt;50K</td>\n",
       "    </tr>\n",
       "    <tr>\n",
       "      <th>3</th>\n",
       "      <td>Black</td>\n",
       "      <td>Male</td>\n",
       "      <td>7688</td>\n",
       "      <td>0</td>\n",
       "      <td>40</td>\n",
       "      <td>United-States</td>\n",
       "      <td>&gt;50K</td>\n",
       "    </tr>\n",
       "    <tr>\n",
       "      <th>4</th>\n",
       "      <td>White</td>\n",
       "      <td>Female</td>\n",
       "      <td>0</td>\n",
       "      <td>0</td>\n",
       "      <td>30</td>\n",
       "      <td>United-States</td>\n",
       "      <td>&lt;=50K</td>\n",
       "    </tr>\n",
       "  </tbody>\n",
       "</table>\n",
       "</div>"
      ],
      "text/plain": [
       "     race      sex  capital-gain  capital-loss  hours-per-week  \\\n",
       "0   Black     Male             0             0              40   \n",
       "1   White     Male             0             0              50   \n",
       "2   White     Male             0             0              40   \n",
       "3   Black     Male          7688             0              40   \n",
       "4   White   Female             0             0              30   \n",
       "\n",
       "   native-country   class  \n",
       "0   United-States   <=50K  \n",
       "1   United-States   <=50K  \n",
       "2   United-States    >50K  \n",
       "3   United-States    >50K  \n",
       "4   United-States   <=50K  "
      ]
     },
     "metadata": {},
     "output_type": "display_data"
    }
   ],
   "source": [
    "#collapse\n",
    "import pandas as pd\n",
    "from sklearn import set_config\n",
    "set_config(display='diagram')\n",
    "data = pd.read_csv(\"data/adult-census.csv\")\n",
    "display(data.iloc[:,:4].head(),data.iloc[:,4:8].head(),data.iloc[:,8:].head())"
   ]
  },
  {
   "cell_type": "code",
   "execution_count": 136,
   "metadata": {},
   "outputs": [
    {
     "name": "stdout",
     "output_type": "stream",
     "text": [
      " Numerical columns :  6 \n",
      " Columns:  ['age', 'fnlwgt', 'education-num', 'capital-gain', 'capital-loss', 'hours-per-week']\n"
     ]
    }
   ],
   "source": [
    "numerical_columns = [var for var in data.columns if data[var].dtype!='O']\n",
    "print(\" Numerical columns : \", len(numerical_columns),\"\\n Columns: \",numerical_columns)"
   ]
  },
  {
   "cell_type": "markdown",
   "metadata": {},
   "source": [
    "The adult-census **data** here is divided into Training data and Target data."
   ]
  },
  {
   "cell_type": "code",
   "execution_count": 137,
   "metadata": {},
   "outputs": [],
   "source": [
    "train_data = data.drop(columns='class')\n",
    "target = data[\"class\"]"
   ]
  },
  {
   "cell_type": "markdown",
   "metadata": {},
   "source": [
    "Lets have a look in distribution of the features within the **data** dataframe. The following cell tells us about the different ranges these are distributed."
   ]
  },
  {
   "cell_type": "code",
   "execution_count": 138,
   "metadata": {},
   "outputs": [
    {
     "data": {
      "text/html": [
       "<div>\n",
       "<style scoped>\n",
       "    .dataframe tbody tr th:only-of-type {\n",
       "        vertical-align: middle;\n",
       "    }\n",
       "\n",
       "    .dataframe tbody tr th {\n",
       "        vertical-align: top;\n",
       "    }\n",
       "\n",
       "    .dataframe thead th {\n",
       "        text-align: right;\n",
       "    }\n",
       "</style>\n",
       "<table border=\"1\" class=\"dataframe\">\n",
       "  <thead>\n",
       "    <tr style=\"text-align: right;\">\n",
       "      <th></th>\n",
       "      <th>age</th>\n",
       "      <th>fnlwgt</th>\n",
       "      <th>education-num</th>\n",
       "      <th>capital-gain</th>\n",
       "      <th>capital-loss</th>\n",
       "      <th>hours-per-week</th>\n",
       "    </tr>\n",
       "  </thead>\n",
       "  <tbody>\n",
       "    <tr>\n",
       "      <th>count</th>\n",
       "      <td>48842.000000</td>\n",
       "      <td>4.884200e+04</td>\n",
       "      <td>48842.000000</td>\n",
       "      <td>48842.000000</td>\n",
       "      <td>48842.000000</td>\n",
       "      <td>48842.000000</td>\n",
       "    </tr>\n",
       "    <tr>\n",
       "      <th>mean</th>\n",
       "      <td>38.643585</td>\n",
       "      <td>1.896641e+05</td>\n",
       "      <td>10.078089</td>\n",
       "      <td>1079.067626</td>\n",
       "      <td>87.502314</td>\n",
       "      <td>40.422382</td>\n",
       "    </tr>\n",
       "    <tr>\n",
       "      <th>std</th>\n",
       "      <td>13.710510</td>\n",
       "      <td>1.056040e+05</td>\n",
       "      <td>2.570973</td>\n",
       "      <td>7452.019058</td>\n",
       "      <td>403.004552</td>\n",
       "      <td>12.391444</td>\n",
       "    </tr>\n",
       "    <tr>\n",
       "      <th>min</th>\n",
       "      <td>17.000000</td>\n",
       "      <td>1.228500e+04</td>\n",
       "      <td>1.000000</td>\n",
       "      <td>0.000000</td>\n",
       "      <td>0.000000</td>\n",
       "      <td>1.000000</td>\n",
       "    </tr>\n",
       "    <tr>\n",
       "      <th>25%</th>\n",
       "      <td>28.000000</td>\n",
       "      <td>1.175505e+05</td>\n",
       "      <td>9.000000</td>\n",
       "      <td>0.000000</td>\n",
       "      <td>0.000000</td>\n",
       "      <td>40.000000</td>\n",
       "    </tr>\n",
       "    <tr>\n",
       "      <th>50%</th>\n",
       "      <td>37.000000</td>\n",
       "      <td>1.781445e+05</td>\n",
       "      <td>10.000000</td>\n",
       "      <td>0.000000</td>\n",
       "      <td>0.000000</td>\n",
       "      <td>40.000000</td>\n",
       "    </tr>\n",
       "    <tr>\n",
       "      <th>75%</th>\n",
       "      <td>48.000000</td>\n",
       "      <td>2.376420e+05</td>\n",
       "      <td>12.000000</td>\n",
       "      <td>0.000000</td>\n",
       "      <td>0.000000</td>\n",
       "      <td>45.000000</td>\n",
       "    </tr>\n",
       "    <tr>\n",
       "      <th>max</th>\n",
       "      <td>90.000000</td>\n",
       "      <td>1.490400e+06</td>\n",
       "      <td>16.000000</td>\n",
       "      <td>99999.000000</td>\n",
       "      <td>4356.000000</td>\n",
       "      <td>99.000000</td>\n",
       "    </tr>\n",
       "  </tbody>\n",
       "</table>\n",
       "</div>"
      ],
      "text/plain": [
       "                age        fnlwgt  education-num  capital-gain  capital-loss  \\\n",
       "count  48842.000000  4.884200e+04   48842.000000  48842.000000  48842.000000   \n",
       "mean      38.643585  1.896641e+05      10.078089   1079.067626     87.502314   \n",
       "std       13.710510  1.056040e+05       2.570973   7452.019058    403.004552   \n",
       "min       17.000000  1.228500e+04       1.000000      0.000000      0.000000   \n",
       "25%       28.000000  1.175505e+05       9.000000      0.000000      0.000000   \n",
       "50%       37.000000  1.781445e+05      10.000000      0.000000      0.000000   \n",
       "75%       48.000000  2.376420e+05      12.000000      0.000000      0.000000   \n",
       "max       90.000000  1.490400e+06      16.000000  99999.000000   4356.000000   \n",
       "\n",
       "       hours-per-week  \n",
       "count    48842.000000  \n",
       "mean        40.422382  \n",
       "std         12.391444  \n",
       "min          1.000000  \n",
       "25%         40.000000  \n",
       "50%         40.000000  \n",
       "75%         45.000000  \n",
       "max         99.000000  "
      ]
     },
     "execution_count": 138,
     "metadata": {},
     "output_type": "execute_result"
    }
   ],
   "source": [
    "#collapse\n",
    "data.describe()"
   ]
  },
  {
   "cell_type": "markdown",
   "metadata": {},
   "source": [
    "As we observe the distribution of column-values above, we should *Scale* the feartures(columns). \n",
    "\n",
    "- Few of the reasons to scale features are :\n",
    "\n",
    "    1. Models that rely on the distance between a pair of samples, for instance k-nearest neighbors, should be trained on normalized features to make each feature contribute approximately equally to the distance computations.\n",
    "\n",
    "    2. Many models such as logistic regression use a numerical solver (based on gradient descent) to find their optimal parameters. This solver converges faster when the features are scaled.\n",
    "    \n",
    "- Linear models such as logistic regression generally benefit from scaling the features while other models such as decision trees do not need such preprocessing (but will not suffer from it).\n",
    "\n",
    "Hence, we will be using scikit-learn's StandardScaler. This would scale our data with zero mean and unit standard deviation, i.e. making the numerical features scale to ***Standard Normal Distribution***. "
   ]
  },
  {
   "cell_type": "markdown",
   "metadata": {},
   "source": [
    "### C.1. Data Transformation using scaler.fit()"
   ]
  },
  {
   "cell_type": "code",
   "execution_count": 139,
   "metadata": {},
   "outputs": [
    {
     "data": {
      "text/html": [
       "<style>div.sk-top-container {color: black;background-color: white;}div.sk-toggleable {background-color: white;}label.sk-toggleable__label {cursor: pointer;display: block;width: 100%;margin-bottom: 0;padding: 0.2em 0.3em;box-sizing: border-box;text-align: center;}div.sk-toggleable__content {max-height: 0;max-width: 0;overflow: hidden;text-align: left;background-color: #f0f8ff;}div.sk-toggleable__content pre {margin: 0.2em;color: black;border-radius: 0.25em;background-color: #f0f8ff;}input.sk-toggleable__control:checked~div.sk-toggleable__content {max-height: 200px;max-width: 100%;overflow: auto;}div.sk-estimator input.sk-toggleable__control:checked~label.sk-toggleable__label {background-color: #d4ebff;}div.sk-label input.sk-toggleable__control:checked~label.sk-toggleable__label {background-color: #d4ebff;}input.sk-hidden--visually {border: 0;clip: rect(1px 1px 1px 1px);clip: rect(1px, 1px, 1px, 1px);height: 1px;margin: -1px;overflow: hidden;padding: 0;position: absolute;width: 1px;}div.sk-estimator {font-family: monospace;background-color: #f0f8ff;margin: 0.25em 0.25em;border: 1px dotted black;border-radius: 0.25em;box-sizing: border-box;}div.sk-estimator:hover {background-color: #d4ebff;}div.sk-parallel-item::after {content: \"\";width: 100%;border-bottom: 1px solid gray;flex-grow: 1;}div.sk-label:hover label.sk-toggleable__label {background-color: #d4ebff;}div.sk-serial::before {content: \"\";position: absolute;border-left: 1px solid gray;box-sizing: border-box;top: 2em;bottom: 0;left: 50%;}div.sk-serial {display: flex;flex-direction: column;align-items: center;background-color: white;}div.sk-item {z-index: 1;}div.sk-parallel {display: flex;align-items: stretch;justify-content: center;background-color: white;}div.sk-parallel-item {display: flex;flex-direction: column;position: relative;background-color: white;}div.sk-parallel-item:first-child::after {align-self: flex-end;width: 50%;}div.sk-parallel-item:last-child::after {align-self: flex-start;width: 50%;}div.sk-parallel-item:only-child::after {width: 0;}div.sk-dashed-wrapped {border: 1px dashed gray;margin: 0.2em;box-sizing: border-box;padding-bottom: 0.1em;background-color: white;position: relative;}div.sk-label label {font-family: monospace;font-weight: bold;background-color: white;display: inline-block;line-height: 1.2em;}div.sk-label-container {position: relative;z-index: 2;text-align: center;}div.sk-container {display: inline-block;position: relative;}</style><div class=\"sk-top-container\"><div class=\"sk-container\"><div class=\"sk-item\"><div class=\"sk-estimator sk-toggleable\"><input class=\"sk-toggleable__control sk-hidden--visually\" id=\"a67ce2e2-0893-4e11-9cee-32903a10aae7\" type=\"checkbox\" checked><label class=\"sk-toggleable__label\" for=\"a67ce2e2-0893-4e11-9cee-32903a10aae7\">StandardScaler</label><div class=\"sk-toggleable__content\"><pre>StandardScaler()</pre></div></div></div></div></div>"
      ],
      "text/plain": [
       "StandardScaler()"
      ]
     },
     "execution_count": 139,
     "metadata": {},
     "output_type": "execute_result"
    }
   ],
   "source": [
    "from sklearn.preprocessing import StandardScaler\n",
    "scaler = StandardScaler()\n",
    "scaler.fit(train_data[numerical_columns])"
   ]
  },
  {
   "cell_type": "markdown",
   "metadata": {},
   "source": [
    "The difference between the .fit() method in the model and .fit() method in the standard scaler(tranformer) is that the first one takes both **data** and the **target**, whereas the later takes only **data**. The standard scaler(tranformer) .fit() operation's mechanism can be understood as follows,\n",
    "\n",
    "\n",
    "![](https://inria.github.io/scikit-learn-mooc/_images/api_diagram-transformer.fit.svg)\n",
    "\n",
    "\n",
    "In this case, the algorithm needs to compute the mean and standard deviation for each feature and store them into some NumPy arrays. Here, these statistics are the model states. The fact that the model states of this scaler are arrays of means and standard deviations is specific to the StandardScaler. Other scikit-learn transformers will compute different statistics and store them as model states, in the same fashion.\n",
    "\n",
    "\n",
    "- Standard Scaling resources : \n",
    "    - [sklearn.preprocessing.StandardScaler](https://scikit-learn.org/stable/modules/generated/sklearn.preprocessing.StandardScaler.html)\n",
    "    - [MLMastery : StandardScaler, MinMaxScaler](https://machinelearningmastery.com/standardscaler-and-minmaxscaler-transforms-in-python/)"
   ]
  },
  {
   "cell_type": "code",
   "execution_count": 140,
   "metadata": {},
   "outputs": [
    {
     "name": "stdout",
     "output_type": "stream",
     "text": [
      " Mean :  [3.86435854e+01 1.89664135e+05 1.00780885e+01 1.07906763e+03\n",
      " 8.75023136e+01 4.04223824e+01] \n",
      "\n",
      " Scaling :  [1.37103696e+01 1.05602944e+05 2.57094644e+00 7.45194277e+03\n",
      " 4.03000427e+02 1.23913172e+01]\n"
     ]
    }
   ],
   "source": [
    "#collapse\n",
    "print(\" Mean : \",scaler.mean_,\"\\n\\n Scaling : \",scaler.scale_)"
   ]
  },
  {
   "cell_type": "markdown",
   "metadata": {},
   "source": [
    "### C.2. Data Transformation using .transform() method"
   ]
  },
  {
   "cell_type": "code",
   "execution_count": 141,
   "metadata": {},
   "outputs": [
    {
     "data": {
      "text/plain": [
       "array([[-0.99512893,  0.35167453, -1.19725891, -0.14480353, -0.2171271 ,\n",
       "        -0.03408696],\n",
       "       [-0.04694151, -0.94552415, -0.41933527, -0.14480353, -0.2171271 ,\n",
       "         0.77292975],\n",
       "       [-0.77631645,  1.3947231 ,  0.74755018, -0.14480353, -0.2171271 ,\n",
       "        -0.03408696],\n",
       "       ...,\n",
       "       [ 1.41180837, -0.35751025, -0.41933527, -0.14480353, -0.2171271 ,\n",
       "        -0.03408696],\n",
       "       [-1.21394141,  0.11198424, -0.41933527, -0.14480353, -0.2171271 ,\n",
       "        -1.64812038],\n",
       "       [ 0.97418341,  0.93049361, -0.41933527,  1.87131501, -0.2171271 ,\n",
       "        -0.03408696]])"
      ]
     },
     "execution_count": 141,
     "metadata": {},
     "output_type": "execute_result"
    }
   ],
   "source": [
    "transformed_data = scaler.transform(train_data[numerical_columns])\n",
    "transformed_data"
   ]
  },
  {
   "cell_type": "markdown",
   "metadata": {},
   "source": [
    "Data Transformation is similar mechanism to that of .predict() but it gives an output as **transformed data**.\n",
    "\n",
    "![](https://inria.github.io/scikit-learn-mooc/_images/api_diagram-transformer.transform.svg)"
   ]
  },
  {
   "cell_type": "markdown",
   "metadata": {},
   "source": [
    "### C.3. The fit + transform method for scaling data\n",
    "\n",
    "We can also use directly the .fit_transform() method, i.e., combination of .fit() + .transform() methods.\n",
    "\n",
    "![](https://inria.github.io/scikit-learn-mooc/_images/api_diagram-transformer.fit_transform.svg)"
   ]
  },
  {
   "cell_type": "code",
   "execution_count": 142,
   "metadata": {},
   "outputs": [
    {
     "data": {
      "text/plain": [
       "array([[-0.99512893,  0.35167453, -1.19725891, -0.14480353, -0.2171271 ,\n",
       "        -0.03408696],\n",
       "       [-0.04694151, -0.94552415, -0.41933527, -0.14480353, -0.2171271 ,\n",
       "         0.77292975],\n",
       "       [-0.77631645,  1.3947231 ,  0.74755018, -0.14480353, -0.2171271 ,\n",
       "        -0.03408696],\n",
       "       ...,\n",
       "       [ 1.41180837, -0.35751025, -0.41933527, -0.14480353, -0.2171271 ,\n",
       "        -0.03408696],\n",
       "       [-1.21394141,  0.11198424, -0.41933527, -0.14480353, -0.2171271 ,\n",
       "        -1.64812038],\n",
       "       [ 0.97418341,  0.93049361, -0.41933527,  1.87131501, -0.2171271 ,\n",
       "        -0.03408696]])"
      ]
     },
     "execution_count": 142,
     "metadata": {},
     "output_type": "execute_result"
    }
   ],
   "source": [
    "data_train_scaled = scaler.fit_transform(train_data[numerical_columns])\n",
    "data_train_scaled"
   ]
  },
  {
   "cell_type": "markdown",
   "metadata": {},
   "source": [
    "### C.4. Effect of scaling on data distribution\n",
    "\n",
    "StandardScaler does not change the structure of the data itself but the axes get shifted and scaled. Following distribution is for original training data(before scaling)."
   ]
  },
  {
   "cell_type": "code",
   "execution_count": 143,
   "metadata": {},
   "outputs": [
    {
     "data": {
      "application/vnd.plotly.v1+json": {
       "config": {
        "plotlyServerURL": "https://plot.ly"
       },
       "data": [
        {
         "hovertemplate": "age=%{x}<br>hours-per-week=%{y}<extra></extra>",
         "legendgroup": "",
         "marker": {
          "color": "#636efa",
          "symbol": "circle"
         },
         "mode": "markers",
         "name": "",
         "orientation": "v",
         "showlegend": false,
         "type": "scatter",
         "x": [
          25,
          38,
          28,
          44,
          18,
          34,
          29,
          63,
          24,
          55,
          65,
          36,
          26,
          58,
          48,
          43,
          20,
          43,
          37,
          40,
          34,
          34,
          72,
          25,
          25,
          45,
          22,
          23,
          54,
          32,
          46,
          56,
          24,
          23,
          26,
          65,
          36,
          22,
          17,
          20,
          65,
          44,
          36,
          29,
          20,
          28,
          39,
          54,
          52,
          56,
          18,
          39,
          21,
          22,
          38,
          21,
          63,
          34,
          42,
          33,
          30,
          39,
          26,
          33,
          47,
          41,
          41,
          19,
          46,
          43,
          55,
          46,
          30,
          21,
          46,
          17,
          41,
          69,
          50,
          20,
          45,
          23,
          24,
          44,
          31,
          43,
          20,
          55,
          24,
          41,
          59,
          49,
          33,
          59,
          34,
          20,
          25,
          49,
          59,
          20,
          51,
          33,
          22,
          58,
          52,
          36,
          41,
          28,
          19,
          18,
          18,
          28,
          29,
          20,
          40,
          26,
          46,
          23,
          44,
          43,
          31,
          18,
          19,
          41,
          41,
          69,
          48,
          28,
          27,
          41,
          41,
          24,
          20,
          42,
          57,
          30,
          36,
          49,
          33,
          23,
          46,
          18,
          40,
          43,
          34,
          47,
          44,
          33,
          55,
          19,
          28,
          27,
          50,
          22,
          40,
          25,
          26,
          22,
          42,
          38,
          55,
          32,
          22,
          29,
          46,
          31,
          58,
          42,
          18,
          58,
          54,
          34,
          26,
          61,
          48,
          36,
          24,
          40,
          33,
          37,
          34,
          56,
          28,
          37,
          44,
          64,
          54,
          23,
          34,
          22,
          33,
          39,
          47,
          79,
          26,
          31,
          44,
          42,
          19,
          27,
          51,
          28,
          57,
          45,
          50,
          34,
          45,
          73,
          34,
          31,
          19,
          25,
          38,
          39,
          23,
          49,
          33,
          21,
          31,
          23,
          34,
          25,
          39,
          52,
          63,
          41,
          46,
          53,
          25,
          77,
          18,
          38,
          55,
          34,
          80,
          34,
          52,
          42,
          26,
          31,
          25,
          55,
          19,
          62,
          22,
          39,
          35,
          28,
          47,
          44,
          21,
          35,
          24,
          42,
          28,
          21,
          62,
          39,
          30,
          72,
          50,
          28,
          29,
          26,
          27,
          29,
          61,
          29,
          21,
          31,
          25,
          58,
          64,
          46,
          53,
          19,
          42,
          18,
          58,
          20,
          35,
          32,
          23,
          31,
          33,
          41,
          22,
          46,
          61,
          30,
          42,
          63,
          26,
          42,
          23,
          25,
          30,
          23,
          34,
          30
         ],
         "xaxis": "x",
         "y": [
          40,
          50,
          40,
          40,
          30,
          30,
          40,
          32,
          40,
          10,
          40,
          40,
          39,
          35,
          48,
          50,
          25,
          30,
          20,
          45,
          47,
          35,
          6,
          43,
          40,
          90,
          20,
          54,
          35,
          60,
          38,
          50,
          50,
          40,
          40,
          40,
          40,
          50,
          40,
          40,
          50,
          45,
          40,
          40,
          32,
          36,
          40,
          50,
          18,
          50,
          20,
          40,
          24,
          60,
          54,
          40,
          40,
          50,
          50,
          40,
          50,
          40,
          40,
          40,
          40,
          40,
          60,
          20,
          40,
          48,
          45,
          40,
          40,
          40,
          40,
          40,
          50,
          30,
          40,
          40,
          50,
          40,
          40,
          50,
          50,
          44,
          10,
          56,
          40,
          10,
          25,
          20,
          10,
          40,
          40,
          40,
          40,
          40,
          40,
          40,
          18,
          35,
          39,
          40,
          28,
          40,
          40,
          40,
          16,
          28,
          48,
          40,
          40,
          20,
          40,
          40,
          40,
          24,
          40,
          40,
          60,
          25,
          30,
          40,
          40,
          25,
          40,
          40,
          60,
          50,
          40,
          40,
          40,
          41,
          48,
          40,
          60,
          40,
          35,
          40,
          40,
          22,
          55,
          45,
          30,
          30,
          30,
          40,
          50,
          30,
          14,
          32,
          20,
          40,
          45,
          40,
          40,
          25,
          40,
          40,
          30,
          40,
          45,
          40,
          45,
          40,
          16,
          45,
          25,
          33,
          40,
          40,
          40,
          60,
          40,
          45,
          45,
          37,
          50,
          40,
          40,
          40,
          38,
          55,
          40,
          8,
          45,
          50,
          40,
          45,
          40,
          50,
          37,
          40,
          55,
          40,
          45,
          50,
          40,
          40,
          40,
          50,
          45,
          40,
          40,
          54,
          40,
          20,
          50,
          55,
          12,
          50,
          40,
          40,
          32,
          40,
          32,
          38,
          40,
          45,
          40,
          40,
          40,
          40,
          40,
          40,
          38,
          40,
          40,
          35,
          40,
          50,
          50,
          40,
          30,
          60,
          40,
          28,
          40,
          40,
          35,
          60,
          12,
          32,
          20,
          50,
          40,
          40,
          70,
          40,
          15,
          50,
          40,
          40,
          50,
          35,
          40,
          40,
          40,
          20,
          50,
          40,
          40,
          40,
          40,
          40,
          40,
          25,
          30,
          20,
          75,
          40,
          40,
          38,
          35,
          35,
          52,
          24,
          50,
          60,
          40,
          38,
          25,
          40,
          55,
          48,
          40,
          40,
          40,
          40,
          55,
          40,
          40,
          40,
          40,
          40,
          32,
          40,
          60,
          48
         ],
         "yaxis": "y"
        },
        {
         "alignmentgroup": "True",
         "bingroup": "x",
         "hovertemplate": "age=%{x}<br>count=%{y}<extra></extra>",
         "legendgroup": "",
         "marker": {
          "color": "#636efa"
         },
         "name": "",
         "offsetgroup": "",
         "opacity": 0.5,
         "showlegend": false,
         "type": "histogram",
         "x": [
          25,
          38,
          28,
          44,
          18,
          34,
          29,
          63,
          24,
          55,
          65,
          36,
          26,
          58,
          48,
          43,
          20,
          43,
          37,
          40,
          34,
          34,
          72,
          25,
          25,
          45,
          22,
          23,
          54,
          32,
          46,
          56,
          24,
          23,
          26,
          65,
          36,
          22,
          17,
          20,
          65,
          44,
          36,
          29,
          20,
          28,
          39,
          54,
          52,
          56,
          18,
          39,
          21,
          22,
          38,
          21,
          63,
          34,
          42,
          33,
          30,
          39,
          26,
          33,
          47,
          41,
          41,
          19,
          46,
          43,
          55,
          46,
          30,
          21,
          46,
          17,
          41,
          69,
          50,
          20,
          45,
          23,
          24,
          44,
          31,
          43,
          20,
          55,
          24,
          41,
          59,
          49,
          33,
          59,
          34,
          20,
          25,
          49,
          59,
          20,
          51,
          33,
          22,
          58,
          52,
          36,
          41,
          28,
          19,
          18,
          18,
          28,
          29,
          20,
          40,
          26,
          46,
          23,
          44,
          43,
          31,
          18,
          19,
          41,
          41,
          69,
          48,
          28,
          27,
          41,
          41,
          24,
          20,
          42,
          57,
          30,
          36,
          49,
          33,
          23,
          46,
          18,
          40,
          43,
          34,
          47,
          44,
          33,
          55,
          19,
          28,
          27,
          50,
          22,
          40,
          25,
          26,
          22,
          42,
          38,
          55,
          32,
          22,
          29,
          46,
          31,
          58,
          42,
          18,
          58,
          54,
          34,
          26,
          61,
          48,
          36,
          24,
          40,
          33,
          37,
          34,
          56,
          28,
          37,
          44,
          64,
          54,
          23,
          34,
          22,
          33,
          39,
          47,
          79,
          26,
          31,
          44,
          42,
          19,
          27,
          51,
          28,
          57,
          45,
          50,
          34,
          45,
          73,
          34,
          31,
          19,
          25,
          38,
          39,
          23,
          49,
          33,
          21,
          31,
          23,
          34,
          25,
          39,
          52,
          63,
          41,
          46,
          53,
          25,
          77,
          18,
          38,
          55,
          34,
          80,
          34,
          52,
          42,
          26,
          31,
          25,
          55,
          19,
          62,
          22,
          39,
          35,
          28,
          47,
          44,
          21,
          35,
          24,
          42,
          28,
          21,
          62,
          39,
          30,
          72,
          50,
          28,
          29,
          26,
          27,
          29,
          61,
          29,
          21,
          31,
          25,
          58,
          64,
          46,
          53,
          19,
          42,
          18,
          58,
          20,
          35,
          32,
          23,
          31,
          33,
          41,
          22,
          46,
          61,
          30,
          42,
          63,
          26,
          42,
          23,
          25,
          30,
          23,
          34,
          30
         ],
         "xaxis": "x3",
         "yaxis": "y3"
        },
        {
         "alignmentgroup": "True",
         "bingroup": "y",
         "hovertemplate": "hours-per-week=%{y}<br>count=%{x}<extra></extra>",
         "legendgroup": "",
         "marker": {
          "color": "#636efa"
         },
         "name": "",
         "offsetgroup": "",
         "opacity": 0.5,
         "showlegend": false,
         "type": "histogram",
         "xaxis": "x2",
         "y": [
          40,
          50,
          40,
          40,
          30,
          30,
          40,
          32,
          40,
          10,
          40,
          40,
          39,
          35,
          48,
          50,
          25,
          30,
          20,
          45,
          47,
          35,
          6,
          43,
          40,
          90,
          20,
          54,
          35,
          60,
          38,
          50,
          50,
          40,
          40,
          40,
          40,
          50,
          40,
          40,
          50,
          45,
          40,
          40,
          32,
          36,
          40,
          50,
          18,
          50,
          20,
          40,
          24,
          60,
          54,
          40,
          40,
          50,
          50,
          40,
          50,
          40,
          40,
          40,
          40,
          40,
          60,
          20,
          40,
          48,
          45,
          40,
          40,
          40,
          40,
          40,
          50,
          30,
          40,
          40,
          50,
          40,
          40,
          50,
          50,
          44,
          10,
          56,
          40,
          10,
          25,
          20,
          10,
          40,
          40,
          40,
          40,
          40,
          40,
          40,
          18,
          35,
          39,
          40,
          28,
          40,
          40,
          40,
          16,
          28,
          48,
          40,
          40,
          20,
          40,
          40,
          40,
          24,
          40,
          40,
          60,
          25,
          30,
          40,
          40,
          25,
          40,
          40,
          60,
          50,
          40,
          40,
          40,
          41,
          48,
          40,
          60,
          40,
          35,
          40,
          40,
          22,
          55,
          45,
          30,
          30,
          30,
          40,
          50,
          30,
          14,
          32,
          20,
          40,
          45,
          40,
          40,
          25,
          40,
          40,
          30,
          40,
          45,
          40,
          45,
          40,
          16,
          45,
          25,
          33,
          40,
          40,
          40,
          60,
          40,
          45,
          45,
          37,
          50,
          40,
          40,
          40,
          38,
          55,
          40,
          8,
          45,
          50,
          40,
          45,
          40,
          50,
          37,
          40,
          55,
          40,
          45,
          50,
          40,
          40,
          40,
          50,
          45,
          40,
          40,
          54,
          40,
          20,
          50,
          55,
          12,
          50,
          40,
          40,
          32,
          40,
          32,
          38,
          40,
          45,
          40,
          40,
          40,
          40,
          40,
          40,
          38,
          40,
          40,
          35,
          40,
          50,
          50,
          40,
          30,
          60,
          40,
          28,
          40,
          40,
          35,
          60,
          12,
          32,
          20,
          50,
          40,
          40,
          70,
          40,
          15,
          50,
          40,
          40,
          50,
          35,
          40,
          40,
          40,
          20,
          50,
          40,
          40,
          40,
          40,
          40,
          40,
          25,
          30,
          20,
          75,
          40,
          40,
          38,
          35,
          35,
          52,
          24,
          50,
          60,
          40,
          38,
          25,
          40,
          55,
          48,
          40,
          40,
          40,
          40,
          55,
          40,
          40,
          40,
          40,
          40,
          32,
          40,
          60,
          48
         ],
         "yaxis": "y2"
        }
       ],
       "layout": {
        "barmode": "overlay",
        "legend": {
         "tracegroupgap": 0
        },
        "margin": {
         "t": 60
        },
        "template": {
         "data": {
          "bar": [
           {
            "error_x": {
             "color": "#2a3f5f"
            },
            "error_y": {
             "color": "#2a3f5f"
            },
            "marker": {
             "line": {
              "color": "#E5ECF6",
              "width": 0.5
             }
            },
            "type": "bar"
           }
          ],
          "barpolar": [
           {
            "marker": {
             "line": {
              "color": "#E5ECF6",
              "width": 0.5
             }
            },
            "type": "barpolar"
           }
          ],
          "carpet": [
           {
            "aaxis": {
             "endlinecolor": "#2a3f5f",
             "gridcolor": "white",
             "linecolor": "white",
             "minorgridcolor": "white",
             "startlinecolor": "#2a3f5f"
            },
            "baxis": {
             "endlinecolor": "#2a3f5f",
             "gridcolor": "white",
             "linecolor": "white",
             "minorgridcolor": "white",
             "startlinecolor": "#2a3f5f"
            },
            "type": "carpet"
           }
          ],
          "choropleth": [
           {
            "colorbar": {
             "outlinewidth": 0,
             "ticks": ""
            },
            "type": "choropleth"
           }
          ],
          "contour": [
           {
            "colorbar": {
             "outlinewidth": 0,
             "ticks": ""
            },
            "colorscale": [
             [
              0,
              "#0d0887"
             ],
             [
              0.1111111111111111,
              "#46039f"
             ],
             [
              0.2222222222222222,
              "#7201a8"
             ],
             [
              0.3333333333333333,
              "#9c179e"
             ],
             [
              0.4444444444444444,
              "#bd3786"
             ],
             [
              0.5555555555555556,
              "#d8576b"
             ],
             [
              0.6666666666666666,
              "#ed7953"
             ],
             [
              0.7777777777777778,
              "#fb9f3a"
             ],
             [
              0.8888888888888888,
              "#fdca26"
             ],
             [
              1,
              "#f0f921"
             ]
            ],
            "type": "contour"
           }
          ],
          "contourcarpet": [
           {
            "colorbar": {
             "outlinewidth": 0,
             "ticks": ""
            },
            "type": "contourcarpet"
           }
          ],
          "heatmap": [
           {
            "colorbar": {
             "outlinewidth": 0,
             "ticks": ""
            },
            "colorscale": [
             [
              0,
              "#0d0887"
             ],
             [
              0.1111111111111111,
              "#46039f"
             ],
             [
              0.2222222222222222,
              "#7201a8"
             ],
             [
              0.3333333333333333,
              "#9c179e"
             ],
             [
              0.4444444444444444,
              "#bd3786"
             ],
             [
              0.5555555555555556,
              "#d8576b"
             ],
             [
              0.6666666666666666,
              "#ed7953"
             ],
             [
              0.7777777777777778,
              "#fb9f3a"
             ],
             [
              0.8888888888888888,
              "#fdca26"
             ],
             [
              1,
              "#f0f921"
             ]
            ],
            "type": "heatmap"
           }
          ],
          "heatmapgl": [
           {
            "colorbar": {
             "outlinewidth": 0,
             "ticks": ""
            },
            "colorscale": [
             [
              0,
              "#0d0887"
             ],
             [
              0.1111111111111111,
              "#46039f"
             ],
             [
              0.2222222222222222,
              "#7201a8"
             ],
             [
              0.3333333333333333,
              "#9c179e"
             ],
             [
              0.4444444444444444,
              "#bd3786"
             ],
             [
              0.5555555555555556,
              "#d8576b"
             ],
             [
              0.6666666666666666,
              "#ed7953"
             ],
             [
              0.7777777777777778,
              "#fb9f3a"
             ],
             [
              0.8888888888888888,
              "#fdca26"
             ],
             [
              1,
              "#f0f921"
             ]
            ],
            "type": "heatmapgl"
           }
          ],
          "histogram": [
           {
            "marker": {
             "colorbar": {
              "outlinewidth": 0,
              "ticks": ""
             }
            },
            "type": "histogram"
           }
          ],
          "histogram2d": [
           {
            "colorbar": {
             "outlinewidth": 0,
             "ticks": ""
            },
            "colorscale": [
             [
              0,
              "#0d0887"
             ],
             [
              0.1111111111111111,
              "#46039f"
             ],
             [
              0.2222222222222222,
              "#7201a8"
             ],
             [
              0.3333333333333333,
              "#9c179e"
             ],
             [
              0.4444444444444444,
              "#bd3786"
             ],
             [
              0.5555555555555556,
              "#d8576b"
             ],
             [
              0.6666666666666666,
              "#ed7953"
             ],
             [
              0.7777777777777778,
              "#fb9f3a"
             ],
             [
              0.8888888888888888,
              "#fdca26"
             ],
             [
              1,
              "#f0f921"
             ]
            ],
            "type": "histogram2d"
           }
          ],
          "histogram2dcontour": [
           {
            "colorbar": {
             "outlinewidth": 0,
             "ticks": ""
            },
            "colorscale": [
             [
              0,
              "#0d0887"
             ],
             [
              0.1111111111111111,
              "#46039f"
             ],
             [
              0.2222222222222222,
              "#7201a8"
             ],
             [
              0.3333333333333333,
              "#9c179e"
             ],
             [
              0.4444444444444444,
              "#bd3786"
             ],
             [
              0.5555555555555556,
              "#d8576b"
             ],
             [
              0.6666666666666666,
              "#ed7953"
             ],
             [
              0.7777777777777778,
              "#fb9f3a"
             ],
             [
              0.8888888888888888,
              "#fdca26"
             ],
             [
              1,
              "#f0f921"
             ]
            ],
            "type": "histogram2dcontour"
           }
          ],
          "mesh3d": [
           {
            "colorbar": {
             "outlinewidth": 0,
             "ticks": ""
            },
            "type": "mesh3d"
           }
          ],
          "parcoords": [
           {
            "line": {
             "colorbar": {
              "outlinewidth": 0,
              "ticks": ""
             }
            },
            "type": "parcoords"
           }
          ],
          "pie": [
           {
            "automargin": true,
            "type": "pie"
           }
          ],
          "scatter": [
           {
            "marker": {
             "colorbar": {
              "outlinewidth": 0,
              "ticks": ""
             }
            },
            "type": "scatter"
           }
          ],
          "scatter3d": [
           {
            "line": {
             "colorbar": {
              "outlinewidth": 0,
              "ticks": ""
             }
            },
            "marker": {
             "colorbar": {
              "outlinewidth": 0,
              "ticks": ""
             }
            },
            "type": "scatter3d"
           }
          ],
          "scattercarpet": [
           {
            "marker": {
             "colorbar": {
              "outlinewidth": 0,
              "ticks": ""
             }
            },
            "type": "scattercarpet"
           }
          ],
          "scattergeo": [
           {
            "marker": {
             "colorbar": {
              "outlinewidth": 0,
              "ticks": ""
             }
            },
            "type": "scattergeo"
           }
          ],
          "scattergl": [
           {
            "marker": {
             "colorbar": {
              "outlinewidth": 0,
              "ticks": ""
             }
            },
            "type": "scattergl"
           }
          ],
          "scattermapbox": [
           {
            "marker": {
             "colorbar": {
              "outlinewidth": 0,
              "ticks": ""
             }
            },
            "type": "scattermapbox"
           }
          ],
          "scatterpolar": [
           {
            "marker": {
             "colorbar": {
              "outlinewidth": 0,
              "ticks": ""
             }
            },
            "type": "scatterpolar"
           }
          ],
          "scatterpolargl": [
           {
            "marker": {
             "colorbar": {
              "outlinewidth": 0,
              "ticks": ""
             }
            },
            "type": "scatterpolargl"
           }
          ],
          "scatterternary": [
           {
            "marker": {
             "colorbar": {
              "outlinewidth": 0,
              "ticks": ""
             }
            },
            "type": "scatterternary"
           }
          ],
          "surface": [
           {
            "colorbar": {
             "outlinewidth": 0,
             "ticks": ""
            },
            "colorscale": [
             [
              0,
              "#0d0887"
             ],
             [
              0.1111111111111111,
              "#46039f"
             ],
             [
              0.2222222222222222,
              "#7201a8"
             ],
             [
              0.3333333333333333,
              "#9c179e"
             ],
             [
              0.4444444444444444,
              "#bd3786"
             ],
             [
              0.5555555555555556,
              "#d8576b"
             ],
             [
              0.6666666666666666,
              "#ed7953"
             ],
             [
              0.7777777777777778,
              "#fb9f3a"
             ],
             [
              0.8888888888888888,
              "#fdca26"
             ],
             [
              1,
              "#f0f921"
             ]
            ],
            "type": "surface"
           }
          ],
          "table": [
           {
            "cells": {
             "fill": {
              "color": "#EBF0F8"
             },
             "line": {
              "color": "white"
             }
            },
            "header": {
             "fill": {
              "color": "#C8D4E3"
             },
             "line": {
              "color": "white"
             }
            },
            "type": "table"
           }
          ]
         },
         "layout": {
          "annotationdefaults": {
           "arrowcolor": "#2a3f5f",
           "arrowhead": 0,
           "arrowwidth": 1
          },
          "autotypenumbers": "strict",
          "coloraxis": {
           "colorbar": {
            "outlinewidth": 0,
            "ticks": ""
           }
          },
          "colorscale": {
           "diverging": [
            [
             0,
             "#8e0152"
            ],
            [
             0.1,
             "#c51b7d"
            ],
            [
             0.2,
             "#de77ae"
            ],
            [
             0.3,
             "#f1b6da"
            ],
            [
             0.4,
             "#fde0ef"
            ],
            [
             0.5,
             "#f7f7f7"
            ],
            [
             0.6,
             "#e6f5d0"
            ],
            [
             0.7,
             "#b8e186"
            ],
            [
             0.8,
             "#7fbc41"
            ],
            [
             0.9,
             "#4d9221"
            ],
            [
             1,
             "#276419"
            ]
           ],
           "sequential": [
            [
             0,
             "#0d0887"
            ],
            [
             0.1111111111111111,
             "#46039f"
            ],
            [
             0.2222222222222222,
             "#7201a8"
            ],
            [
             0.3333333333333333,
             "#9c179e"
            ],
            [
             0.4444444444444444,
             "#bd3786"
            ],
            [
             0.5555555555555556,
             "#d8576b"
            ],
            [
             0.6666666666666666,
             "#ed7953"
            ],
            [
             0.7777777777777778,
             "#fb9f3a"
            ],
            [
             0.8888888888888888,
             "#fdca26"
            ],
            [
             1,
             "#f0f921"
            ]
           ],
           "sequentialminus": [
            [
             0,
             "#0d0887"
            ],
            [
             0.1111111111111111,
             "#46039f"
            ],
            [
             0.2222222222222222,
             "#7201a8"
            ],
            [
             0.3333333333333333,
             "#9c179e"
            ],
            [
             0.4444444444444444,
             "#bd3786"
            ],
            [
             0.5555555555555556,
             "#d8576b"
            ],
            [
             0.6666666666666666,
             "#ed7953"
            ],
            [
             0.7777777777777778,
             "#fb9f3a"
            ],
            [
             0.8888888888888888,
             "#fdca26"
            ],
            [
             1,
             "#f0f921"
            ]
           ]
          },
          "colorway": [
           "#636efa",
           "#EF553B",
           "#00cc96",
           "#ab63fa",
           "#FFA15A",
           "#19d3f3",
           "#FF6692",
           "#B6E880",
           "#FF97FF",
           "#FECB52"
          ],
          "font": {
           "color": "#2a3f5f"
          },
          "geo": {
           "bgcolor": "white",
           "lakecolor": "white",
           "landcolor": "#E5ECF6",
           "showlakes": true,
           "showland": true,
           "subunitcolor": "white"
          },
          "hoverlabel": {
           "align": "left"
          },
          "hovermode": "closest",
          "mapbox": {
           "style": "light"
          },
          "paper_bgcolor": "white",
          "plot_bgcolor": "#E5ECF6",
          "polar": {
           "angularaxis": {
            "gridcolor": "white",
            "linecolor": "white",
            "ticks": ""
           },
           "bgcolor": "#E5ECF6",
           "radialaxis": {
            "gridcolor": "white",
            "linecolor": "white",
            "ticks": ""
           }
          },
          "scene": {
           "xaxis": {
            "backgroundcolor": "#E5ECF6",
            "gridcolor": "white",
            "gridwidth": 2,
            "linecolor": "white",
            "showbackground": true,
            "ticks": "",
            "zerolinecolor": "white"
           },
           "yaxis": {
            "backgroundcolor": "#E5ECF6",
            "gridcolor": "white",
            "gridwidth": 2,
            "linecolor": "white",
            "showbackground": true,
            "ticks": "",
            "zerolinecolor": "white"
           },
           "zaxis": {
            "backgroundcolor": "#E5ECF6",
            "gridcolor": "white",
            "gridwidth": 2,
            "linecolor": "white",
            "showbackground": true,
            "ticks": "",
            "zerolinecolor": "white"
           }
          },
          "shapedefaults": {
           "line": {
            "color": "#2a3f5f"
           }
          },
          "ternary": {
           "aaxis": {
            "gridcolor": "white",
            "linecolor": "white",
            "ticks": ""
           },
           "baxis": {
            "gridcolor": "white",
            "linecolor": "white",
            "ticks": ""
           },
           "bgcolor": "#E5ECF6",
           "caxis": {
            "gridcolor": "white",
            "linecolor": "white",
            "ticks": ""
           }
          },
          "title": {
           "x": 0.05
          },
          "xaxis": {
           "automargin": true,
           "gridcolor": "white",
           "linecolor": "white",
           "ticks": "",
           "title": {
            "standoff": 15
           },
           "zerolinecolor": "white",
           "zerolinewidth": 2
          },
          "yaxis": {
           "automargin": true,
           "gridcolor": "white",
           "linecolor": "white",
           "ticks": "",
           "title": {
            "standoff": 15
           },
           "zerolinecolor": "white",
           "zerolinewidth": 2
          }
         }
        },
        "xaxis": {
         "anchor": "y",
         "domain": [
          0,
          0.7363
         ],
         "title": {
          "text": "age"
         }
        },
        "xaxis2": {
         "anchor": "y2",
         "domain": [
          0.7413,
          1
         ],
         "matches": "x2",
         "showgrid": true,
         "showline": false,
         "showticklabels": false,
         "ticks": ""
        },
        "xaxis3": {
         "anchor": "y3",
         "domain": [
          0,
          0.7363
         ],
         "matches": "x",
         "showgrid": true,
         "showticklabels": false
        },
        "xaxis4": {
         "anchor": "y4",
         "domain": [
          0.7413,
          1
         ],
         "matches": "x2",
         "showgrid": true,
         "showline": false,
         "showticklabels": false,
         "ticks": ""
        },
        "yaxis": {
         "anchor": "x",
         "domain": [
          0,
          0.7326
         ],
         "title": {
          "text": "hours-per-week"
         }
        },
        "yaxis2": {
         "anchor": "x2",
         "domain": [
          0,
          0.7326
         ],
         "matches": "y",
         "showgrid": true,
         "showticklabels": false
        },
        "yaxis3": {
         "anchor": "x3",
         "domain": [
          0.7426,
          1
         ],
         "matches": "y3",
         "showgrid": true,
         "showline": false,
         "showticklabels": false,
         "ticks": ""
        },
        "yaxis4": {
         "anchor": "x4",
         "domain": [
          0.7426,
          1
         ],
         "matches": "y3",
         "showgrid": true,
         "showline": false,
         "showticklabels": false,
         "ticks": ""
        }
       }
      }
     },
     "metadata": {},
     "output_type": "display_data"
    }
   ],
   "source": [
    "#collapse\n",
    "import plotly.express as px\n",
    "num_points_to_plot = 300\n",
    "fig = px.scatter(train_data[:num_points_to_plot], x=\"age\", y=\"hours-per-week\", marginal_x=\"histogram\", marginal_y=\"histogram\")\n",
    "fig.show()"
   ]
  },
  {
   "cell_type": "markdown",
   "metadata": {},
   "source": [
    "**Scaled training data** : "
   ]
  },
  {
   "cell_type": "code",
   "execution_count": 144,
   "metadata": {},
   "outputs": [
    {
     "data": {
      "text/html": [
       "<div>\n",
       "<style scoped>\n",
       "    .dataframe tbody tr th:only-of-type {\n",
       "        vertical-align: middle;\n",
       "    }\n",
       "\n",
       "    .dataframe tbody tr th {\n",
       "        vertical-align: top;\n",
       "    }\n",
       "\n",
       "    .dataframe thead th {\n",
       "        text-align: right;\n",
       "    }\n",
       "</style>\n",
       "<table border=\"1\" class=\"dataframe\">\n",
       "  <thead>\n",
       "    <tr style=\"text-align: right;\">\n",
       "      <th></th>\n",
       "      <th>age</th>\n",
       "      <th>fnlwgt</th>\n",
       "      <th>education-num</th>\n",
       "      <th>capital-gain</th>\n",
       "      <th>capital-loss</th>\n",
       "      <th>hours-per-week</th>\n",
       "    </tr>\n",
       "  </thead>\n",
       "  <tbody>\n",
       "    <tr>\n",
       "      <th>count</th>\n",
       "      <td>4.884200e+04</td>\n",
       "      <td>4.884200e+04</td>\n",
       "      <td>4.884200e+04</td>\n",
       "      <td>4.884200e+04</td>\n",
       "      <td>4.884200e+04</td>\n",
       "      <td>4.884200e+04</td>\n",
       "    </tr>\n",
       "    <tr>\n",
       "      <th>mean</th>\n",
       "      <td>1.584958e-16</td>\n",
       "      <td>-4.742349e-17</td>\n",
       "      <td>1.594573e-17</td>\n",
       "      <td>2.294458e-16</td>\n",
       "      <td>7.617582e-17</td>\n",
       "      <td>9.071110e-17</td>\n",
       "    </tr>\n",
       "    <tr>\n",
       "      <th>std</th>\n",
       "      <td>1.000010e+00</td>\n",
       "      <td>1.000010e+00</td>\n",
       "      <td>1.000010e+00</td>\n",
       "      <td>1.000010e+00</td>\n",
       "      <td>1.000010e+00</td>\n",
       "      <td>1.000010e+00</td>\n",
       "    </tr>\n",
       "    <tr>\n",
       "      <th>min</th>\n",
       "      <td>-1.578629e+00</td>\n",
       "      <td>-1.679680e+00</td>\n",
       "      <td>-3.531030e+00</td>\n",
       "      <td>-1.448035e-01</td>\n",
       "      <td>-2.171271e-01</td>\n",
       "      <td>-3.181452e+00</td>\n",
       "    </tr>\n",
       "    <tr>\n",
       "      <th>25%</th>\n",
       "      <td>-7.763164e-01</td>\n",
       "      <td>-6.828752e-01</td>\n",
       "      <td>-4.193353e-01</td>\n",
       "      <td>-1.448035e-01</td>\n",
       "      <td>-2.171271e-01</td>\n",
       "      <td>-3.408696e-02</td>\n",
       "    </tr>\n",
       "    <tr>\n",
       "      <th>50%</th>\n",
       "      <td>-1.198790e-01</td>\n",
       "      <td>-1.090844e-01</td>\n",
       "      <td>-3.037346e-02</td>\n",
       "      <td>-1.448035e-01</td>\n",
       "      <td>-2.171271e-01</td>\n",
       "      <td>-3.408696e-02</td>\n",
       "    </tr>\n",
       "    <tr>\n",
       "      <th>75%</th>\n",
       "      <td>6.824334e-01</td>\n",
       "      <td>4.543232e-01</td>\n",
       "      <td>7.475502e-01</td>\n",
       "      <td>-1.448035e-01</td>\n",
       "      <td>-2.171271e-01</td>\n",
       "      <td>3.694214e-01</td>\n",
       "    </tr>\n",
       "    <tr>\n",
       "      <th>max</th>\n",
       "      <td>3.745808e+00</td>\n",
       "      <td>1.231723e+01</td>\n",
       "      <td>2.303397e+00</td>\n",
       "      <td>1.327438e+01</td>\n",
       "      <td>1.059179e+01</td>\n",
       "      <td>4.727312e+00</td>\n",
       "    </tr>\n",
       "  </tbody>\n",
       "</table>\n",
       "</div>"
      ],
      "text/plain": [
       "                age        fnlwgt  education-num  capital-gain  capital-loss  \\\n",
       "count  4.884200e+04  4.884200e+04   4.884200e+04  4.884200e+04  4.884200e+04   \n",
       "mean   1.584958e-16 -4.742349e-17   1.594573e-17  2.294458e-16  7.617582e-17   \n",
       "std    1.000010e+00  1.000010e+00   1.000010e+00  1.000010e+00  1.000010e+00   \n",
       "min   -1.578629e+00 -1.679680e+00  -3.531030e+00 -1.448035e-01 -2.171271e-01   \n",
       "25%   -7.763164e-01 -6.828752e-01  -4.193353e-01 -1.448035e-01 -2.171271e-01   \n",
       "50%   -1.198790e-01 -1.090844e-01  -3.037346e-02 -1.448035e-01 -2.171271e-01   \n",
       "75%    6.824334e-01  4.543232e-01   7.475502e-01 -1.448035e-01 -2.171271e-01   \n",
       "max    3.745808e+00  1.231723e+01   2.303397e+00  1.327438e+01  1.059179e+01   \n",
       "\n",
       "       hours-per-week  \n",
       "count    4.884200e+04  \n",
       "mean     9.071110e-17  \n",
       "std      1.000010e+00  \n",
       "min     -3.181452e+00  \n",
       "25%     -3.408696e-02  \n",
       "50%     -3.408696e-02  \n",
       "75%      3.694214e-01  \n",
       "max      4.727312e+00  "
      ]
     },
     "execution_count": 144,
     "metadata": {},
     "output_type": "execute_result"
    }
   ],
   "source": [
    "#collapse\n",
    "data_train_scaled = pd.DataFrame(data_train_scaled, columns=train_data[numerical_columns].columns)\n",
    "data_train_scaled.describe()"
   ]
  },
  {
   "cell_type": "markdown",
   "metadata": {},
   "source": [
    "Distribution of the scaled data. Notice the range in the axes change and not the distribution of the data. "
   ]
  },
  {
   "cell_type": "code",
   "execution_count": 145,
   "metadata": {},
   "outputs": [
    {
     "data": {
      "application/vnd.plotly.v1+json": {
       "config": {
        "plotlyServerURL": "https://plot.ly"
       },
       "data": [
        {
         "hovertemplate": "age=%{x}<br>hours-per-week=%{y}<extra></extra>",
         "legendgroup": "",
         "marker": {
          "color": "#636efa",
          "symbol": "circle"
         },
         "mode": "markers",
         "name": "",
         "orientation": "v",
         "showlegend": false,
         "type": "scatter",
         "x": [
          -0.9951289322402804,
          -0.04694150913298843,
          -0.7763164499847515,
          0.3906834553780694,
          -1.5056913908365146,
          -0.33869148547369365,
          -0.7033789558995752,
          1.7764958429964193,
          -1.0680664263254567,
          1.1929958903150089,
          1.9223708311667718,
          -0.19281649730334105,
          -0.9221914381551041,
          1.4118083725705377,
          0.6824334317187747,
          0.3177459612928931,
          -1.3598164026661619,
          0.3177459612928931,
          -0.11987900321816473,
          0.09893347903736419,
          -0.33869148547369365,
          -0.33869148547369365,
          2.432933289763006,
          -0.9951289322402804,
          -0.9951289322402804,
          0.4636209494632457,
          -1.2139414144958094,
          -1.141003920410633,
          1.1200583962298325,
          -0.48456647364404626,
          0.536558443548422,
          1.265933384400185,
          -1.0680664263254567,
          -1.141003920410633,
          -0.9221914381551041,
          1.9223708311667718,
          -0.19281649730334105,
          -1.2139414144958094,
          -1.578628884921691,
          -1.3598164026661619,
          1.9223708311667718,
          0.3906834553780694,
          -0.19281649730334105,
          -0.7033789558995752,
          -1.3598164026661619,
          -0.7763164499847515,
          0.025995984952187877,
          1.1200583962298325,
          0.9741834080594799,
          1.265933384400185,
          -1.5056913908365146,
          0.025995984952187877,
          -1.2868789085809857,
          -1.2139414144958094,
          -0.04694150913298843,
          -1.2868789085809857,
          1.7764958429964193,
          -0.33869148547369365,
          0.2448084672077168,
          -0.41162897955886996,
          -0.6304414618143989,
          0.025995984952187877,
          -0.9221914381551041,
          -0.41162897955886996,
          0.6094959376335983,
          0.1718709731225405,
          0.1718709731225405,
          -1.4327538967513382,
          0.536558443548422,
          0.3177459612928931,
          1.1929958903150089,
          0.536558443548422,
          -0.6304414618143989,
          -1.2868789085809857,
          0.536558443548422,
          -1.578628884921691,
          0.1718709731225405,
          2.214120807507477,
          0.8283084198891273,
          -1.3598164026661619,
          0.4636209494632457,
          -1.141003920410633,
          -1.0680664263254567,
          0.3906834553780694,
          -0.5575039677292226,
          0.3177459612928931,
          -1.3598164026661619,
          1.1929958903150089,
          -1.0680664263254567,
          0.1718709731225405,
          1.484745866655714,
          0.7553709258039509,
          -0.41162897955886996,
          1.484745866655714,
          -0.33869148547369365,
          -1.3598164026661619,
          -0.9951289322402804,
          0.7553709258039509,
          1.484745866655714,
          -1.3598164026661619,
          0.9012459139743035,
          -0.41162897955886996,
          -1.2139414144958094,
          1.4118083725705377,
          0.9741834080594799,
          -0.19281649730334105,
          0.1718709731225405,
          -0.7763164499847515,
          -1.4327538967513382,
          -1.5056913908365146,
          -1.5056913908365146,
          -0.7763164499847515,
          -0.7033789558995752,
          -1.3598164026661619,
          0.09893347903736419,
          -0.9221914381551041,
          0.536558443548422,
          -1.141003920410633,
          0.3906834553780694,
          0.3177459612928931,
          -0.5575039677292226,
          -1.5056913908365146,
          -1.4327538967513382,
          0.1718709731225405,
          0.1718709731225405,
          2.214120807507477,
          0.6824334317187747,
          -0.7763164499847515,
          -0.8492539440699278,
          0.1718709731225405,
          0.1718709731225405,
          -1.0680664263254567,
          -1.3598164026661619,
          0.2448084672077168,
          1.3388708784853613,
          -0.6304414618143989,
          -0.19281649730334105,
          0.7553709258039509,
          -0.41162897955886996,
          -1.141003920410633,
          0.536558443548422,
          -1.5056913908365146,
          0.09893347903736419,
          0.3177459612928931,
          -0.33869148547369365,
          0.6094959376335983,
          0.3906834553780694,
          -0.41162897955886996,
          1.1929958903150089,
          -1.4327538967513382,
          -0.7763164499847515,
          -0.8492539440699278,
          0.8283084198891273,
          -1.2139414144958094,
          0.09893347903736419,
          -0.9951289322402804,
          -0.9221914381551041,
          -1.2139414144958094,
          0.2448084672077168,
          -0.04694150913298843,
          1.1929958903150089,
          -0.48456647364404626,
          -1.2139414144958094,
          -0.7033789558995752,
          0.536558443548422,
          -0.5575039677292226,
          1.4118083725705377,
          0.2448084672077168,
          -1.5056913908365146,
          1.4118083725705377,
          1.1200583962298325,
          -0.33869148547369365,
          -0.9221914381551041,
          1.6306208548260666,
          0.6824334317187747,
          -0.19281649730334105,
          -1.0680664263254567,
          0.09893347903736419,
          -0.41162897955886996,
          -0.11987900321816473,
          -0.33869148547369365,
          1.265933384400185,
          -0.7763164499847515,
          -0.11987900321816473,
          0.3906834553780694,
          1.8494333370815956,
          1.1200583962298325,
          -1.141003920410633,
          -0.33869148547369365,
          -1.2139414144958094,
          -0.41162897955886996,
          0.025995984952187877,
          0.6094959376335983,
          2.9434957483592403,
          -0.9221914381551041,
          -0.5575039677292226,
          0.3906834553780694,
          0.2448084672077168,
          -1.4327538967513382,
          -0.8492539440699278,
          0.9012459139743035,
          -0.7763164499847515,
          1.3388708784853613,
          0.4636209494632457,
          0.8283084198891273,
          -0.33869148547369365,
          0.4636209494632457,
          2.505870783848182,
          -0.33869148547369365,
          -0.5575039677292226,
          -1.4327538967513382,
          -0.9951289322402804,
          -0.04694150913298843,
          0.025995984952187877,
          -1.141003920410633,
          0.7553709258039509,
          -0.41162897955886996,
          -1.2868789085809857,
          -0.5575039677292226,
          -1.141003920410633,
          -0.33869148547369365,
          -0.9951289322402804,
          0.025995984952187877,
          0.9741834080594799,
          1.7764958429964193,
          0.1718709731225405,
          0.536558443548422,
          1.0471209021446561,
          -0.9951289322402804,
          2.7976207601888876,
          -1.5056913908365146,
          -0.04694150913298843,
          1.1929958903150089,
          -0.33869148547369365,
          3.0164332424444167,
          -0.33869148547369365,
          0.9741834080594799,
          0.2448084672077168,
          -0.9221914381551041,
          -0.5575039677292226,
          -0.9951289322402804,
          1.1929958903150089,
          -1.4327538967513382,
          1.703558348911243,
          -1.2139414144958094,
          0.025995984952187877,
          -0.26575399138851735,
          -0.7763164499847515,
          0.6094959376335983,
          0.3906834553780694,
          -1.2868789085809857,
          -0.26575399138851735,
          -1.0680664263254567,
          0.2448084672077168,
          -0.7763164499847515,
          -1.2868789085809857,
          1.703558348911243,
          0.025995984952187877,
          -0.6304414618143989,
          2.432933289763006,
          0.8283084198891273,
          -0.7763164499847515,
          -0.7033789558995752,
          -0.9221914381551041,
          -0.8492539440699278,
          -0.7033789558995752,
          1.6306208548260666,
          -0.7033789558995752,
          -1.2868789085809857,
          -0.5575039677292226,
          -0.9951289322402804,
          1.4118083725705377,
          1.8494333370815956,
          0.536558443548422,
          1.0471209021446561,
          -1.4327538967513382,
          0.2448084672077168,
          -1.5056913908365146,
          1.4118083725705377,
          -1.3598164026661619,
          -0.26575399138851735,
          -0.48456647364404626,
          -1.141003920410633,
          -0.5575039677292226,
          -0.41162897955886996,
          0.1718709731225405,
          -1.2139414144958094,
          0.536558443548422,
          1.6306208548260666,
          -0.6304414618143989,
          0.2448084672077168,
          1.7764958429964193,
          -0.9221914381551041,
          0.2448084672077168,
          -1.141003920410633,
          -0.9951289322402804,
          -0.6304414618143989,
          -1.141003920410633,
          -0.33869148547369365,
          -0.6304414618143989
         ],
         "xaxis": "x",
         "y": [
          -0.03408696347500956,
          0.7729297452241753,
          -0.03408696347500956,
          -0.03408696347500956,
          -0.8411036721741945,
          -0.8411036721741945,
          -0.03408696347500956,
          -0.6797003304343575,
          -0.03408696347500956,
          -2.455137089572564,
          -0.03408696347500956,
          -0.03408696347500956,
          -0.11478863434492804,
          -0.43759531782460204,
          0.6115264034843384,
          0.7729297452241753,
          -1.244612026523787,
          -0.8411036721741945,
          -1.6481203808733793,
          0.36942139087458287,
          0.5308247326144199,
          -0.43759531782460204,
          -2.7779437730522383,
          0.20801804913474592,
          -0.03408696347500956,
          4.000996580020915,
          -1.6481203808733793,
          1.0957364287038494,
          -0.43759531782460204,
          1.5799464539233603,
          -0.19549030521484653,
          0.7729297452241753,
          0.7729297452241753,
          -0.03408696347500956,
          -0.03408696347500956,
          -0.03408696347500956,
          -0.03408696347500956,
          0.7729297452241753,
          -0.03408696347500956,
          -0.03408696347500956,
          0.7729297452241753,
          0.36942139087458287,
          -0.03408696347500956,
          -0.03408696347500956,
          -0.6797003304343575,
          -0.3568936469546835,
          -0.03408696347500956,
          0.7729297452241753,
          -1.8095237226132164,
          0.7729297452241753,
          -1.6481203808733793,
          -0.03408696347500956,
          -1.3253136973937054,
          1.5799464539233603,
          1.0957364287038494,
          -0.03408696347500956,
          -0.03408696347500956,
          0.7729297452241753,
          0.7729297452241753,
          -0.03408696347500956,
          0.7729297452241753,
          -0.03408696347500956,
          -0.03408696347500956,
          -0.03408696347500956,
          -0.03408696347500956,
          -0.03408696347500956,
          1.5799464539233603,
          -1.6481203808733793,
          -0.03408696347500956,
          0.6115264034843384,
          0.36942139087458287,
          -0.03408696347500956,
          -0.03408696347500956,
          -0.03408696347500956,
          -0.03408696347500956,
          -0.03408696347500956,
          0.7729297452241753,
          -0.8411036721741945,
          -0.03408696347500956,
          -0.03408696347500956,
          0.7729297452241753,
          -0.03408696347500956,
          -0.03408696347500956,
          0.7729297452241753,
          0.7729297452241753,
          0.2887197200046644,
          -2.455137089572564,
          1.2571397704436862,
          -0.03408696347500956,
          -2.455137089572564,
          -1.244612026523787,
          -1.6481203808733793,
          -2.455137089572564,
          -0.03408696347500956,
          -0.03408696347500956,
          -0.03408696347500956,
          -0.03408696347500956,
          -0.03408696347500956,
          -0.03408696347500956,
          -0.03408696347500956,
          -1.8095237226132164,
          -0.43759531782460204,
          -0.11478863434492804,
          -0.03408696347500956,
          -1.0025070139140315,
          -0.03408696347500956,
          -0.03408696347500956,
          -0.03408696347500956,
          -1.9709270643530534,
          -1.0025070139140315,
          0.6115264034843384,
          -0.03408696347500956,
          -0.03408696347500956,
          -1.6481203808733793,
          -0.03408696347500956,
          -0.03408696347500956,
          -0.03408696347500956,
          -1.3253136973937054,
          -0.03408696347500956,
          -0.03408696347500956,
          1.5799464539233603,
          -1.244612026523787,
          -0.8411036721741945,
          -0.03408696347500956,
          -0.03408696347500956,
          -1.244612026523787,
          -0.03408696347500956,
          -0.03408696347500956,
          1.5799464539233603,
          0.7729297452241753,
          -0.03408696347500956,
          -0.03408696347500956,
          -0.03408696347500956,
          0.04661470739490893,
          0.6115264034843384,
          -0.03408696347500956,
          1.5799464539233603,
          -0.03408696347500956,
          -0.43759531782460204,
          -0.03408696347500956,
          -0.03408696347500956,
          -1.4867170391335425,
          1.1764380995737678,
          0.36942139087458287,
          -0.8411036721741945,
          -0.8411036721741945,
          -0.8411036721741945,
          -0.03408696347500956,
          0.7729297452241753,
          -0.8411036721741945,
          -2.1323304060928905,
          -0.6797003304343575,
          -1.6481203808733793,
          -0.03408696347500956,
          0.36942139087458287,
          -0.03408696347500956,
          -0.03408696347500956,
          -1.244612026523787,
          -0.03408696347500956,
          -0.03408696347500956,
          -0.8411036721741945,
          -0.03408696347500956,
          0.36942139087458287,
          -0.03408696347500956,
          0.36942139087458287,
          -0.03408696347500956,
          -1.9709270643530534,
          0.36942139087458287,
          -1.244612026523787,
          -0.598998659564439,
          -0.03408696347500956,
          -0.03408696347500956,
          -0.03408696347500956,
          1.5799464539233603,
          -0.03408696347500956,
          0.36942139087458287,
          0.36942139087458287,
          -0.27619197608476503,
          0.7729297452241753,
          -0.03408696347500956,
          -0.03408696347500956,
          -0.03408696347500956,
          -0.19549030521484653,
          1.1764380995737678,
          -0.03408696347500956,
          -2.6165404313124014,
          0.36942139087458287,
          0.7729297452241753,
          -0.03408696347500956,
          0.36942139087458287,
          -0.03408696347500956,
          0.7729297452241753,
          -0.27619197608476503,
          -0.03408696347500956,
          1.1764380995737678,
          -0.03408696347500956,
          0.36942139087458287,
          0.7729297452241753,
          -0.03408696347500956,
          -0.03408696347500956,
          -0.03408696347500956,
          0.7729297452241753,
          0.36942139087458287,
          -0.03408696347500956,
          -0.03408696347500956,
          1.0957364287038494,
          -0.03408696347500956,
          -1.6481203808733793,
          0.7729297452241753,
          1.1764380995737678,
          -2.2937337478327273,
          0.7729297452241753,
          -0.03408696347500956,
          -0.03408696347500956,
          -0.6797003304343575,
          -0.03408696347500956,
          -0.6797003304343575,
          -0.19549030521484653,
          -0.03408696347500956,
          0.36942139087458287,
          -0.03408696347500956,
          -0.03408696347500956,
          -0.03408696347500956,
          -0.03408696347500956,
          -0.03408696347500956,
          -0.03408696347500956,
          -0.19549030521484653,
          -0.03408696347500956,
          -0.03408696347500956,
          -0.43759531782460204,
          -0.03408696347500956,
          0.7729297452241753,
          0.7729297452241753,
          -0.03408696347500956,
          -0.8411036721741945,
          1.5799464539233603,
          -0.03408696347500956,
          -1.0025070139140315,
          -0.03408696347500956,
          -0.03408696347500956,
          -0.43759531782460204,
          1.5799464539233603,
          -2.2937337478327273,
          -0.6797003304343575,
          -1.6481203808733793,
          0.7729297452241753,
          -0.03408696347500956,
          -0.03408696347500956,
          2.3869631626225454,
          -0.03408696347500956,
          -2.051628735222972,
          0.7729297452241753,
          -0.03408696347500956,
          -0.03408696347500956,
          0.7729297452241753,
          -0.43759531782460204,
          -0.03408696347500956,
          -0.03408696347500956,
          -0.03408696347500956,
          -1.6481203808733793,
          0.7729297452241753,
          -0.03408696347500956,
          -0.03408696347500956,
          -0.03408696347500956,
          -0.03408696347500956,
          -0.03408696347500956,
          -0.03408696347500956,
          -1.244612026523787,
          -0.8411036721741945,
          -1.6481203808733793,
          2.7904715169721377,
          -0.03408696347500956,
          -0.03408696347500956,
          -0.19549030521484653,
          -0.43759531782460204,
          -0.43759531782460204,
          0.9343330869640123,
          -1.3253136973937054,
          0.7729297452241753,
          1.5799464539233603,
          -0.03408696347500956,
          -0.19549030521484653,
          -1.244612026523787,
          -0.03408696347500956,
          1.1764380995737678,
          0.6115264034843384,
          -0.03408696347500956,
          -0.03408696347500956,
          -0.03408696347500956,
          -0.03408696347500956,
          1.1764380995737678,
          -0.03408696347500956,
          -0.03408696347500956,
          -0.03408696347500956,
          -0.03408696347500956,
          -0.03408696347500956,
          -0.6797003304343575,
          -0.03408696347500956,
          1.5799464539233603,
          0.6115264034843384
         ],
         "yaxis": "y"
        },
        {
         "alignmentgroup": "True",
         "bingroup": "x",
         "hovertemplate": "age=%{x}<br>count=%{y}<extra></extra>",
         "legendgroup": "",
         "marker": {
          "color": "#636efa"
         },
         "name": "",
         "offsetgroup": "",
         "opacity": 0.5,
         "showlegend": false,
         "type": "histogram",
         "x": [
          -0.9951289322402804,
          -0.04694150913298843,
          -0.7763164499847515,
          0.3906834553780694,
          -1.5056913908365146,
          -0.33869148547369365,
          -0.7033789558995752,
          1.7764958429964193,
          -1.0680664263254567,
          1.1929958903150089,
          1.9223708311667718,
          -0.19281649730334105,
          -0.9221914381551041,
          1.4118083725705377,
          0.6824334317187747,
          0.3177459612928931,
          -1.3598164026661619,
          0.3177459612928931,
          -0.11987900321816473,
          0.09893347903736419,
          -0.33869148547369365,
          -0.33869148547369365,
          2.432933289763006,
          -0.9951289322402804,
          -0.9951289322402804,
          0.4636209494632457,
          -1.2139414144958094,
          -1.141003920410633,
          1.1200583962298325,
          -0.48456647364404626,
          0.536558443548422,
          1.265933384400185,
          -1.0680664263254567,
          -1.141003920410633,
          -0.9221914381551041,
          1.9223708311667718,
          -0.19281649730334105,
          -1.2139414144958094,
          -1.578628884921691,
          -1.3598164026661619,
          1.9223708311667718,
          0.3906834553780694,
          -0.19281649730334105,
          -0.7033789558995752,
          -1.3598164026661619,
          -0.7763164499847515,
          0.025995984952187877,
          1.1200583962298325,
          0.9741834080594799,
          1.265933384400185,
          -1.5056913908365146,
          0.025995984952187877,
          -1.2868789085809857,
          -1.2139414144958094,
          -0.04694150913298843,
          -1.2868789085809857,
          1.7764958429964193,
          -0.33869148547369365,
          0.2448084672077168,
          -0.41162897955886996,
          -0.6304414618143989,
          0.025995984952187877,
          -0.9221914381551041,
          -0.41162897955886996,
          0.6094959376335983,
          0.1718709731225405,
          0.1718709731225405,
          -1.4327538967513382,
          0.536558443548422,
          0.3177459612928931,
          1.1929958903150089,
          0.536558443548422,
          -0.6304414618143989,
          -1.2868789085809857,
          0.536558443548422,
          -1.578628884921691,
          0.1718709731225405,
          2.214120807507477,
          0.8283084198891273,
          -1.3598164026661619,
          0.4636209494632457,
          -1.141003920410633,
          -1.0680664263254567,
          0.3906834553780694,
          -0.5575039677292226,
          0.3177459612928931,
          -1.3598164026661619,
          1.1929958903150089,
          -1.0680664263254567,
          0.1718709731225405,
          1.484745866655714,
          0.7553709258039509,
          -0.41162897955886996,
          1.484745866655714,
          -0.33869148547369365,
          -1.3598164026661619,
          -0.9951289322402804,
          0.7553709258039509,
          1.484745866655714,
          -1.3598164026661619,
          0.9012459139743035,
          -0.41162897955886996,
          -1.2139414144958094,
          1.4118083725705377,
          0.9741834080594799,
          -0.19281649730334105,
          0.1718709731225405,
          -0.7763164499847515,
          -1.4327538967513382,
          -1.5056913908365146,
          -1.5056913908365146,
          -0.7763164499847515,
          -0.7033789558995752,
          -1.3598164026661619,
          0.09893347903736419,
          -0.9221914381551041,
          0.536558443548422,
          -1.141003920410633,
          0.3906834553780694,
          0.3177459612928931,
          -0.5575039677292226,
          -1.5056913908365146,
          -1.4327538967513382,
          0.1718709731225405,
          0.1718709731225405,
          2.214120807507477,
          0.6824334317187747,
          -0.7763164499847515,
          -0.8492539440699278,
          0.1718709731225405,
          0.1718709731225405,
          -1.0680664263254567,
          -1.3598164026661619,
          0.2448084672077168,
          1.3388708784853613,
          -0.6304414618143989,
          -0.19281649730334105,
          0.7553709258039509,
          -0.41162897955886996,
          -1.141003920410633,
          0.536558443548422,
          -1.5056913908365146,
          0.09893347903736419,
          0.3177459612928931,
          -0.33869148547369365,
          0.6094959376335983,
          0.3906834553780694,
          -0.41162897955886996,
          1.1929958903150089,
          -1.4327538967513382,
          -0.7763164499847515,
          -0.8492539440699278,
          0.8283084198891273,
          -1.2139414144958094,
          0.09893347903736419,
          -0.9951289322402804,
          -0.9221914381551041,
          -1.2139414144958094,
          0.2448084672077168,
          -0.04694150913298843,
          1.1929958903150089,
          -0.48456647364404626,
          -1.2139414144958094,
          -0.7033789558995752,
          0.536558443548422,
          -0.5575039677292226,
          1.4118083725705377,
          0.2448084672077168,
          -1.5056913908365146,
          1.4118083725705377,
          1.1200583962298325,
          -0.33869148547369365,
          -0.9221914381551041,
          1.6306208548260666,
          0.6824334317187747,
          -0.19281649730334105,
          -1.0680664263254567,
          0.09893347903736419,
          -0.41162897955886996,
          -0.11987900321816473,
          -0.33869148547369365,
          1.265933384400185,
          -0.7763164499847515,
          -0.11987900321816473,
          0.3906834553780694,
          1.8494333370815956,
          1.1200583962298325,
          -1.141003920410633,
          -0.33869148547369365,
          -1.2139414144958094,
          -0.41162897955886996,
          0.025995984952187877,
          0.6094959376335983,
          2.9434957483592403,
          -0.9221914381551041,
          -0.5575039677292226,
          0.3906834553780694,
          0.2448084672077168,
          -1.4327538967513382,
          -0.8492539440699278,
          0.9012459139743035,
          -0.7763164499847515,
          1.3388708784853613,
          0.4636209494632457,
          0.8283084198891273,
          -0.33869148547369365,
          0.4636209494632457,
          2.505870783848182,
          -0.33869148547369365,
          -0.5575039677292226,
          -1.4327538967513382,
          -0.9951289322402804,
          -0.04694150913298843,
          0.025995984952187877,
          -1.141003920410633,
          0.7553709258039509,
          -0.41162897955886996,
          -1.2868789085809857,
          -0.5575039677292226,
          -1.141003920410633,
          -0.33869148547369365,
          -0.9951289322402804,
          0.025995984952187877,
          0.9741834080594799,
          1.7764958429964193,
          0.1718709731225405,
          0.536558443548422,
          1.0471209021446561,
          -0.9951289322402804,
          2.7976207601888876,
          -1.5056913908365146,
          -0.04694150913298843,
          1.1929958903150089,
          -0.33869148547369365,
          3.0164332424444167,
          -0.33869148547369365,
          0.9741834080594799,
          0.2448084672077168,
          -0.9221914381551041,
          -0.5575039677292226,
          -0.9951289322402804,
          1.1929958903150089,
          -1.4327538967513382,
          1.703558348911243,
          -1.2139414144958094,
          0.025995984952187877,
          -0.26575399138851735,
          -0.7763164499847515,
          0.6094959376335983,
          0.3906834553780694,
          -1.2868789085809857,
          -0.26575399138851735,
          -1.0680664263254567,
          0.2448084672077168,
          -0.7763164499847515,
          -1.2868789085809857,
          1.703558348911243,
          0.025995984952187877,
          -0.6304414618143989,
          2.432933289763006,
          0.8283084198891273,
          -0.7763164499847515,
          -0.7033789558995752,
          -0.9221914381551041,
          -0.8492539440699278,
          -0.7033789558995752,
          1.6306208548260666,
          -0.7033789558995752,
          -1.2868789085809857,
          -0.5575039677292226,
          -0.9951289322402804,
          1.4118083725705377,
          1.8494333370815956,
          0.536558443548422,
          1.0471209021446561,
          -1.4327538967513382,
          0.2448084672077168,
          -1.5056913908365146,
          1.4118083725705377,
          -1.3598164026661619,
          -0.26575399138851735,
          -0.48456647364404626,
          -1.141003920410633,
          -0.5575039677292226,
          -0.41162897955886996,
          0.1718709731225405,
          -1.2139414144958094,
          0.536558443548422,
          1.6306208548260666,
          -0.6304414618143989,
          0.2448084672077168,
          1.7764958429964193,
          -0.9221914381551041,
          0.2448084672077168,
          -1.141003920410633,
          -0.9951289322402804,
          -0.6304414618143989,
          -1.141003920410633,
          -0.33869148547369365,
          -0.6304414618143989
         ],
         "xaxis": "x3",
         "yaxis": "y3"
        },
        {
         "alignmentgroup": "True",
         "bingroup": "y",
         "hovertemplate": "hours-per-week=%{y}<br>count=%{x}<extra></extra>",
         "legendgroup": "",
         "marker": {
          "color": "#636efa"
         },
         "name": "",
         "offsetgroup": "",
         "opacity": 0.5,
         "showlegend": false,
         "type": "histogram",
         "xaxis": "x2",
         "y": [
          -0.03408696347500956,
          0.7729297452241753,
          -0.03408696347500956,
          -0.03408696347500956,
          -0.8411036721741945,
          -0.8411036721741945,
          -0.03408696347500956,
          -0.6797003304343575,
          -0.03408696347500956,
          -2.455137089572564,
          -0.03408696347500956,
          -0.03408696347500956,
          -0.11478863434492804,
          -0.43759531782460204,
          0.6115264034843384,
          0.7729297452241753,
          -1.244612026523787,
          -0.8411036721741945,
          -1.6481203808733793,
          0.36942139087458287,
          0.5308247326144199,
          -0.43759531782460204,
          -2.7779437730522383,
          0.20801804913474592,
          -0.03408696347500956,
          4.000996580020915,
          -1.6481203808733793,
          1.0957364287038494,
          -0.43759531782460204,
          1.5799464539233603,
          -0.19549030521484653,
          0.7729297452241753,
          0.7729297452241753,
          -0.03408696347500956,
          -0.03408696347500956,
          -0.03408696347500956,
          -0.03408696347500956,
          0.7729297452241753,
          -0.03408696347500956,
          -0.03408696347500956,
          0.7729297452241753,
          0.36942139087458287,
          -0.03408696347500956,
          -0.03408696347500956,
          -0.6797003304343575,
          -0.3568936469546835,
          -0.03408696347500956,
          0.7729297452241753,
          -1.8095237226132164,
          0.7729297452241753,
          -1.6481203808733793,
          -0.03408696347500956,
          -1.3253136973937054,
          1.5799464539233603,
          1.0957364287038494,
          -0.03408696347500956,
          -0.03408696347500956,
          0.7729297452241753,
          0.7729297452241753,
          -0.03408696347500956,
          0.7729297452241753,
          -0.03408696347500956,
          -0.03408696347500956,
          -0.03408696347500956,
          -0.03408696347500956,
          -0.03408696347500956,
          1.5799464539233603,
          -1.6481203808733793,
          -0.03408696347500956,
          0.6115264034843384,
          0.36942139087458287,
          -0.03408696347500956,
          -0.03408696347500956,
          -0.03408696347500956,
          -0.03408696347500956,
          -0.03408696347500956,
          0.7729297452241753,
          -0.8411036721741945,
          -0.03408696347500956,
          -0.03408696347500956,
          0.7729297452241753,
          -0.03408696347500956,
          -0.03408696347500956,
          0.7729297452241753,
          0.7729297452241753,
          0.2887197200046644,
          -2.455137089572564,
          1.2571397704436862,
          -0.03408696347500956,
          -2.455137089572564,
          -1.244612026523787,
          -1.6481203808733793,
          -2.455137089572564,
          -0.03408696347500956,
          -0.03408696347500956,
          -0.03408696347500956,
          -0.03408696347500956,
          -0.03408696347500956,
          -0.03408696347500956,
          -0.03408696347500956,
          -1.8095237226132164,
          -0.43759531782460204,
          -0.11478863434492804,
          -0.03408696347500956,
          -1.0025070139140315,
          -0.03408696347500956,
          -0.03408696347500956,
          -0.03408696347500956,
          -1.9709270643530534,
          -1.0025070139140315,
          0.6115264034843384,
          -0.03408696347500956,
          -0.03408696347500956,
          -1.6481203808733793,
          -0.03408696347500956,
          -0.03408696347500956,
          -0.03408696347500956,
          -1.3253136973937054,
          -0.03408696347500956,
          -0.03408696347500956,
          1.5799464539233603,
          -1.244612026523787,
          -0.8411036721741945,
          -0.03408696347500956,
          -0.03408696347500956,
          -1.244612026523787,
          -0.03408696347500956,
          -0.03408696347500956,
          1.5799464539233603,
          0.7729297452241753,
          -0.03408696347500956,
          -0.03408696347500956,
          -0.03408696347500956,
          0.04661470739490893,
          0.6115264034843384,
          -0.03408696347500956,
          1.5799464539233603,
          -0.03408696347500956,
          -0.43759531782460204,
          -0.03408696347500956,
          -0.03408696347500956,
          -1.4867170391335425,
          1.1764380995737678,
          0.36942139087458287,
          -0.8411036721741945,
          -0.8411036721741945,
          -0.8411036721741945,
          -0.03408696347500956,
          0.7729297452241753,
          -0.8411036721741945,
          -2.1323304060928905,
          -0.6797003304343575,
          -1.6481203808733793,
          -0.03408696347500956,
          0.36942139087458287,
          -0.03408696347500956,
          -0.03408696347500956,
          -1.244612026523787,
          -0.03408696347500956,
          -0.03408696347500956,
          -0.8411036721741945,
          -0.03408696347500956,
          0.36942139087458287,
          -0.03408696347500956,
          0.36942139087458287,
          -0.03408696347500956,
          -1.9709270643530534,
          0.36942139087458287,
          -1.244612026523787,
          -0.598998659564439,
          -0.03408696347500956,
          -0.03408696347500956,
          -0.03408696347500956,
          1.5799464539233603,
          -0.03408696347500956,
          0.36942139087458287,
          0.36942139087458287,
          -0.27619197608476503,
          0.7729297452241753,
          -0.03408696347500956,
          -0.03408696347500956,
          -0.03408696347500956,
          -0.19549030521484653,
          1.1764380995737678,
          -0.03408696347500956,
          -2.6165404313124014,
          0.36942139087458287,
          0.7729297452241753,
          -0.03408696347500956,
          0.36942139087458287,
          -0.03408696347500956,
          0.7729297452241753,
          -0.27619197608476503,
          -0.03408696347500956,
          1.1764380995737678,
          -0.03408696347500956,
          0.36942139087458287,
          0.7729297452241753,
          -0.03408696347500956,
          -0.03408696347500956,
          -0.03408696347500956,
          0.7729297452241753,
          0.36942139087458287,
          -0.03408696347500956,
          -0.03408696347500956,
          1.0957364287038494,
          -0.03408696347500956,
          -1.6481203808733793,
          0.7729297452241753,
          1.1764380995737678,
          -2.2937337478327273,
          0.7729297452241753,
          -0.03408696347500956,
          -0.03408696347500956,
          -0.6797003304343575,
          -0.03408696347500956,
          -0.6797003304343575,
          -0.19549030521484653,
          -0.03408696347500956,
          0.36942139087458287,
          -0.03408696347500956,
          -0.03408696347500956,
          -0.03408696347500956,
          -0.03408696347500956,
          -0.03408696347500956,
          -0.03408696347500956,
          -0.19549030521484653,
          -0.03408696347500956,
          -0.03408696347500956,
          -0.43759531782460204,
          -0.03408696347500956,
          0.7729297452241753,
          0.7729297452241753,
          -0.03408696347500956,
          -0.8411036721741945,
          1.5799464539233603,
          -0.03408696347500956,
          -1.0025070139140315,
          -0.03408696347500956,
          -0.03408696347500956,
          -0.43759531782460204,
          1.5799464539233603,
          -2.2937337478327273,
          -0.6797003304343575,
          -1.6481203808733793,
          0.7729297452241753,
          -0.03408696347500956,
          -0.03408696347500956,
          2.3869631626225454,
          -0.03408696347500956,
          -2.051628735222972,
          0.7729297452241753,
          -0.03408696347500956,
          -0.03408696347500956,
          0.7729297452241753,
          -0.43759531782460204,
          -0.03408696347500956,
          -0.03408696347500956,
          -0.03408696347500956,
          -1.6481203808733793,
          0.7729297452241753,
          -0.03408696347500956,
          -0.03408696347500956,
          -0.03408696347500956,
          -0.03408696347500956,
          -0.03408696347500956,
          -0.03408696347500956,
          -1.244612026523787,
          -0.8411036721741945,
          -1.6481203808733793,
          2.7904715169721377,
          -0.03408696347500956,
          -0.03408696347500956,
          -0.19549030521484653,
          -0.43759531782460204,
          -0.43759531782460204,
          0.9343330869640123,
          -1.3253136973937054,
          0.7729297452241753,
          1.5799464539233603,
          -0.03408696347500956,
          -0.19549030521484653,
          -1.244612026523787,
          -0.03408696347500956,
          1.1764380995737678,
          0.6115264034843384,
          -0.03408696347500956,
          -0.03408696347500956,
          -0.03408696347500956,
          -0.03408696347500956,
          1.1764380995737678,
          -0.03408696347500956,
          -0.03408696347500956,
          -0.03408696347500956,
          -0.03408696347500956,
          -0.03408696347500956,
          -0.6797003304343575,
          -0.03408696347500956,
          1.5799464539233603,
          0.6115264034843384
         ],
         "yaxis": "y2"
        }
       ],
       "layout": {
        "barmode": "overlay",
        "legend": {
         "tracegroupgap": 0
        },
        "margin": {
         "t": 60
        },
        "template": {
         "data": {
          "bar": [
           {
            "error_x": {
             "color": "#2a3f5f"
            },
            "error_y": {
             "color": "#2a3f5f"
            },
            "marker": {
             "line": {
              "color": "#E5ECF6",
              "width": 0.5
             }
            },
            "type": "bar"
           }
          ],
          "barpolar": [
           {
            "marker": {
             "line": {
              "color": "#E5ECF6",
              "width": 0.5
             }
            },
            "type": "barpolar"
           }
          ],
          "carpet": [
           {
            "aaxis": {
             "endlinecolor": "#2a3f5f",
             "gridcolor": "white",
             "linecolor": "white",
             "minorgridcolor": "white",
             "startlinecolor": "#2a3f5f"
            },
            "baxis": {
             "endlinecolor": "#2a3f5f",
             "gridcolor": "white",
             "linecolor": "white",
             "minorgridcolor": "white",
             "startlinecolor": "#2a3f5f"
            },
            "type": "carpet"
           }
          ],
          "choropleth": [
           {
            "colorbar": {
             "outlinewidth": 0,
             "ticks": ""
            },
            "type": "choropleth"
           }
          ],
          "contour": [
           {
            "colorbar": {
             "outlinewidth": 0,
             "ticks": ""
            },
            "colorscale": [
             [
              0,
              "#0d0887"
             ],
             [
              0.1111111111111111,
              "#46039f"
             ],
             [
              0.2222222222222222,
              "#7201a8"
             ],
             [
              0.3333333333333333,
              "#9c179e"
             ],
             [
              0.4444444444444444,
              "#bd3786"
             ],
             [
              0.5555555555555556,
              "#d8576b"
             ],
             [
              0.6666666666666666,
              "#ed7953"
             ],
             [
              0.7777777777777778,
              "#fb9f3a"
             ],
             [
              0.8888888888888888,
              "#fdca26"
             ],
             [
              1,
              "#f0f921"
             ]
            ],
            "type": "contour"
           }
          ],
          "contourcarpet": [
           {
            "colorbar": {
             "outlinewidth": 0,
             "ticks": ""
            },
            "type": "contourcarpet"
           }
          ],
          "heatmap": [
           {
            "colorbar": {
             "outlinewidth": 0,
             "ticks": ""
            },
            "colorscale": [
             [
              0,
              "#0d0887"
             ],
             [
              0.1111111111111111,
              "#46039f"
             ],
             [
              0.2222222222222222,
              "#7201a8"
             ],
             [
              0.3333333333333333,
              "#9c179e"
             ],
             [
              0.4444444444444444,
              "#bd3786"
             ],
             [
              0.5555555555555556,
              "#d8576b"
             ],
             [
              0.6666666666666666,
              "#ed7953"
             ],
             [
              0.7777777777777778,
              "#fb9f3a"
             ],
             [
              0.8888888888888888,
              "#fdca26"
             ],
             [
              1,
              "#f0f921"
             ]
            ],
            "type": "heatmap"
           }
          ],
          "heatmapgl": [
           {
            "colorbar": {
             "outlinewidth": 0,
             "ticks": ""
            },
            "colorscale": [
             [
              0,
              "#0d0887"
             ],
             [
              0.1111111111111111,
              "#46039f"
             ],
             [
              0.2222222222222222,
              "#7201a8"
             ],
             [
              0.3333333333333333,
              "#9c179e"
             ],
             [
              0.4444444444444444,
              "#bd3786"
             ],
             [
              0.5555555555555556,
              "#d8576b"
             ],
             [
              0.6666666666666666,
              "#ed7953"
             ],
             [
              0.7777777777777778,
              "#fb9f3a"
             ],
             [
              0.8888888888888888,
              "#fdca26"
             ],
             [
              1,
              "#f0f921"
             ]
            ],
            "type": "heatmapgl"
           }
          ],
          "histogram": [
           {
            "marker": {
             "colorbar": {
              "outlinewidth": 0,
              "ticks": ""
             }
            },
            "type": "histogram"
           }
          ],
          "histogram2d": [
           {
            "colorbar": {
             "outlinewidth": 0,
             "ticks": ""
            },
            "colorscale": [
             [
              0,
              "#0d0887"
             ],
             [
              0.1111111111111111,
              "#46039f"
             ],
             [
              0.2222222222222222,
              "#7201a8"
             ],
             [
              0.3333333333333333,
              "#9c179e"
             ],
             [
              0.4444444444444444,
              "#bd3786"
             ],
             [
              0.5555555555555556,
              "#d8576b"
             ],
             [
              0.6666666666666666,
              "#ed7953"
             ],
             [
              0.7777777777777778,
              "#fb9f3a"
             ],
             [
              0.8888888888888888,
              "#fdca26"
             ],
             [
              1,
              "#f0f921"
             ]
            ],
            "type": "histogram2d"
           }
          ],
          "histogram2dcontour": [
           {
            "colorbar": {
             "outlinewidth": 0,
             "ticks": ""
            },
            "colorscale": [
             [
              0,
              "#0d0887"
             ],
             [
              0.1111111111111111,
              "#46039f"
             ],
             [
              0.2222222222222222,
              "#7201a8"
             ],
             [
              0.3333333333333333,
              "#9c179e"
             ],
             [
              0.4444444444444444,
              "#bd3786"
             ],
             [
              0.5555555555555556,
              "#d8576b"
             ],
             [
              0.6666666666666666,
              "#ed7953"
             ],
             [
              0.7777777777777778,
              "#fb9f3a"
             ],
             [
              0.8888888888888888,
              "#fdca26"
             ],
             [
              1,
              "#f0f921"
             ]
            ],
            "type": "histogram2dcontour"
           }
          ],
          "mesh3d": [
           {
            "colorbar": {
             "outlinewidth": 0,
             "ticks": ""
            },
            "type": "mesh3d"
           }
          ],
          "parcoords": [
           {
            "line": {
             "colorbar": {
              "outlinewidth": 0,
              "ticks": ""
             }
            },
            "type": "parcoords"
           }
          ],
          "pie": [
           {
            "automargin": true,
            "type": "pie"
           }
          ],
          "scatter": [
           {
            "marker": {
             "colorbar": {
              "outlinewidth": 0,
              "ticks": ""
             }
            },
            "type": "scatter"
           }
          ],
          "scatter3d": [
           {
            "line": {
             "colorbar": {
              "outlinewidth": 0,
              "ticks": ""
             }
            },
            "marker": {
             "colorbar": {
              "outlinewidth": 0,
              "ticks": ""
             }
            },
            "type": "scatter3d"
           }
          ],
          "scattercarpet": [
           {
            "marker": {
             "colorbar": {
              "outlinewidth": 0,
              "ticks": ""
             }
            },
            "type": "scattercarpet"
           }
          ],
          "scattergeo": [
           {
            "marker": {
             "colorbar": {
              "outlinewidth": 0,
              "ticks": ""
             }
            },
            "type": "scattergeo"
           }
          ],
          "scattergl": [
           {
            "marker": {
             "colorbar": {
              "outlinewidth": 0,
              "ticks": ""
             }
            },
            "type": "scattergl"
           }
          ],
          "scattermapbox": [
           {
            "marker": {
             "colorbar": {
              "outlinewidth": 0,
              "ticks": ""
             }
            },
            "type": "scattermapbox"
           }
          ],
          "scatterpolar": [
           {
            "marker": {
             "colorbar": {
              "outlinewidth": 0,
              "ticks": ""
             }
            },
            "type": "scatterpolar"
           }
          ],
          "scatterpolargl": [
           {
            "marker": {
             "colorbar": {
              "outlinewidth": 0,
              "ticks": ""
             }
            },
            "type": "scatterpolargl"
           }
          ],
          "scatterternary": [
           {
            "marker": {
             "colorbar": {
              "outlinewidth": 0,
              "ticks": ""
             }
            },
            "type": "scatterternary"
           }
          ],
          "surface": [
           {
            "colorbar": {
             "outlinewidth": 0,
             "ticks": ""
            },
            "colorscale": [
             [
              0,
              "#0d0887"
             ],
             [
              0.1111111111111111,
              "#46039f"
             ],
             [
              0.2222222222222222,
              "#7201a8"
             ],
             [
              0.3333333333333333,
              "#9c179e"
             ],
             [
              0.4444444444444444,
              "#bd3786"
             ],
             [
              0.5555555555555556,
              "#d8576b"
             ],
             [
              0.6666666666666666,
              "#ed7953"
             ],
             [
              0.7777777777777778,
              "#fb9f3a"
             ],
             [
              0.8888888888888888,
              "#fdca26"
             ],
             [
              1,
              "#f0f921"
             ]
            ],
            "type": "surface"
           }
          ],
          "table": [
           {
            "cells": {
             "fill": {
              "color": "#EBF0F8"
             },
             "line": {
              "color": "white"
             }
            },
            "header": {
             "fill": {
              "color": "#C8D4E3"
             },
             "line": {
              "color": "white"
             }
            },
            "type": "table"
           }
          ]
         },
         "layout": {
          "annotationdefaults": {
           "arrowcolor": "#2a3f5f",
           "arrowhead": 0,
           "arrowwidth": 1
          },
          "autotypenumbers": "strict",
          "coloraxis": {
           "colorbar": {
            "outlinewidth": 0,
            "ticks": ""
           }
          },
          "colorscale": {
           "diverging": [
            [
             0,
             "#8e0152"
            ],
            [
             0.1,
             "#c51b7d"
            ],
            [
             0.2,
             "#de77ae"
            ],
            [
             0.3,
             "#f1b6da"
            ],
            [
             0.4,
             "#fde0ef"
            ],
            [
             0.5,
             "#f7f7f7"
            ],
            [
             0.6,
             "#e6f5d0"
            ],
            [
             0.7,
             "#b8e186"
            ],
            [
             0.8,
             "#7fbc41"
            ],
            [
             0.9,
             "#4d9221"
            ],
            [
             1,
             "#276419"
            ]
           ],
           "sequential": [
            [
             0,
             "#0d0887"
            ],
            [
             0.1111111111111111,
             "#46039f"
            ],
            [
             0.2222222222222222,
             "#7201a8"
            ],
            [
             0.3333333333333333,
             "#9c179e"
            ],
            [
             0.4444444444444444,
             "#bd3786"
            ],
            [
             0.5555555555555556,
             "#d8576b"
            ],
            [
             0.6666666666666666,
             "#ed7953"
            ],
            [
             0.7777777777777778,
             "#fb9f3a"
            ],
            [
             0.8888888888888888,
             "#fdca26"
            ],
            [
             1,
             "#f0f921"
            ]
           ],
           "sequentialminus": [
            [
             0,
             "#0d0887"
            ],
            [
             0.1111111111111111,
             "#46039f"
            ],
            [
             0.2222222222222222,
             "#7201a8"
            ],
            [
             0.3333333333333333,
             "#9c179e"
            ],
            [
             0.4444444444444444,
             "#bd3786"
            ],
            [
             0.5555555555555556,
             "#d8576b"
            ],
            [
             0.6666666666666666,
             "#ed7953"
            ],
            [
             0.7777777777777778,
             "#fb9f3a"
            ],
            [
             0.8888888888888888,
             "#fdca26"
            ],
            [
             1,
             "#f0f921"
            ]
           ]
          },
          "colorway": [
           "#636efa",
           "#EF553B",
           "#00cc96",
           "#ab63fa",
           "#FFA15A",
           "#19d3f3",
           "#FF6692",
           "#B6E880",
           "#FF97FF",
           "#FECB52"
          ],
          "font": {
           "color": "#2a3f5f"
          },
          "geo": {
           "bgcolor": "white",
           "lakecolor": "white",
           "landcolor": "#E5ECF6",
           "showlakes": true,
           "showland": true,
           "subunitcolor": "white"
          },
          "hoverlabel": {
           "align": "left"
          },
          "hovermode": "closest",
          "mapbox": {
           "style": "light"
          },
          "paper_bgcolor": "white",
          "plot_bgcolor": "#E5ECF6",
          "polar": {
           "angularaxis": {
            "gridcolor": "white",
            "linecolor": "white",
            "ticks": ""
           },
           "bgcolor": "#E5ECF6",
           "radialaxis": {
            "gridcolor": "white",
            "linecolor": "white",
            "ticks": ""
           }
          },
          "scene": {
           "xaxis": {
            "backgroundcolor": "#E5ECF6",
            "gridcolor": "white",
            "gridwidth": 2,
            "linecolor": "white",
            "showbackground": true,
            "ticks": "",
            "zerolinecolor": "white"
           },
           "yaxis": {
            "backgroundcolor": "#E5ECF6",
            "gridcolor": "white",
            "gridwidth": 2,
            "linecolor": "white",
            "showbackground": true,
            "ticks": "",
            "zerolinecolor": "white"
           },
           "zaxis": {
            "backgroundcolor": "#E5ECF6",
            "gridcolor": "white",
            "gridwidth": 2,
            "linecolor": "white",
            "showbackground": true,
            "ticks": "",
            "zerolinecolor": "white"
           }
          },
          "shapedefaults": {
           "line": {
            "color": "#2a3f5f"
           }
          },
          "ternary": {
           "aaxis": {
            "gridcolor": "white",
            "linecolor": "white",
            "ticks": ""
           },
           "baxis": {
            "gridcolor": "white",
            "linecolor": "white",
            "ticks": ""
           },
           "bgcolor": "#E5ECF6",
           "caxis": {
            "gridcolor": "white",
            "linecolor": "white",
            "ticks": ""
           }
          },
          "title": {
           "x": 0.05
          },
          "xaxis": {
           "automargin": true,
           "gridcolor": "white",
           "linecolor": "white",
           "ticks": "",
           "title": {
            "standoff": 15
           },
           "zerolinecolor": "white",
           "zerolinewidth": 2
          },
          "yaxis": {
           "automargin": true,
           "gridcolor": "white",
           "linecolor": "white",
           "ticks": "",
           "title": {
            "standoff": 15
           },
           "zerolinecolor": "white",
           "zerolinewidth": 2
          }
         }
        },
        "xaxis": {
         "anchor": "y",
         "domain": [
          0,
          0.7363
         ],
         "title": {
          "text": "age"
         }
        },
        "xaxis2": {
         "anchor": "y2",
         "domain": [
          0.7413,
          1
         ],
         "matches": "x2",
         "showgrid": true,
         "showline": false,
         "showticklabels": false,
         "ticks": ""
        },
        "xaxis3": {
         "anchor": "y3",
         "domain": [
          0,
          0.7363
         ],
         "matches": "x",
         "showgrid": true,
         "showticklabels": false
        },
        "xaxis4": {
         "anchor": "y4",
         "domain": [
          0.7413,
          1
         ],
         "matches": "x2",
         "showgrid": true,
         "showline": false,
         "showticklabels": false,
         "ticks": ""
        },
        "yaxis": {
         "anchor": "x",
         "domain": [
          0,
          0.7326
         ],
         "title": {
          "text": "hours-per-week"
         }
        },
        "yaxis2": {
         "anchor": "x2",
         "domain": [
          0,
          0.7326
         ],
         "matches": "y",
         "showgrid": true,
         "showticklabels": false
        },
        "yaxis3": {
         "anchor": "x3",
         "domain": [
          0.7426,
          1
         ],
         "matches": "y3",
         "showgrid": true,
         "showline": false,
         "showticklabels": false,
         "ticks": ""
        },
        "yaxis4": {
         "anchor": "x4",
         "domain": [
          0.7426,
          1
         ],
         "matches": "y3",
         "showgrid": true,
         "showline": false,
         "showticklabels": false,
         "ticks": ""
        }
       }
      }
     },
     "metadata": {},
     "output_type": "display_data"
    }
   ],
   "source": [
    "#collapse\n",
    "fig = px.scatter(data_train_scaled[:num_points_to_plot], x=\"age\", y=\"hours-per-week\", marginal_x=\"histogram\", marginal_y=\"histogram\")\n",
    "fig.show()"
   ]
  },
  {
   "cell_type": "markdown",
   "metadata": {},
   "source": [
    "## (D) Model fitting and preprocessing\n",
    "---\n",
    " \n",
    "We will use sklearn's linear model : Logisitic Regression. Further we will also have a look on the pipeline module's mechanism when calling the .fit() method. But first we need to split our dataset in train and test data."
   ]
  },
  {
   "cell_type": "code",
   "execution_count": 146,
   "metadata": {},
   "outputs": [],
   "source": [
    "from sklearn.model_selection import train_test_split\n",
    "data_train, data_test, target_train, target_test = train_test_split(train_data[numerical_columns], target, random_state=42)"
   ]
  },
  {
   "cell_type": "code",
   "execution_count": 147,
   "metadata": {},
   "outputs": [],
   "source": [
    "#collapse\n",
    "import time\n",
    "from sklearn.linear_model import LogisticRegression\n",
    "from sklearn.pipeline import make_pipeline"
   ]
  },
  {
   "cell_type": "markdown",
   "metadata": {},
   "source": [
    "### D.1. Standard Scaling + Logistic Regression"
   ]
  },
  {
   "cell_type": "code",
   "execution_count": 148,
   "metadata": {},
   "outputs": [
    {
     "data": {
      "text/html": [
       "<style>div.sk-top-container {color: black;background-color: white;}div.sk-toggleable {background-color: white;}label.sk-toggleable__label {cursor: pointer;display: block;width: 100%;margin-bottom: 0;padding: 0.2em 0.3em;box-sizing: border-box;text-align: center;}div.sk-toggleable__content {max-height: 0;max-width: 0;overflow: hidden;text-align: left;background-color: #f0f8ff;}div.sk-toggleable__content pre {margin: 0.2em;color: black;border-radius: 0.25em;background-color: #f0f8ff;}input.sk-toggleable__control:checked~div.sk-toggleable__content {max-height: 200px;max-width: 100%;overflow: auto;}div.sk-estimator input.sk-toggleable__control:checked~label.sk-toggleable__label {background-color: #d4ebff;}div.sk-label input.sk-toggleable__control:checked~label.sk-toggleable__label {background-color: #d4ebff;}input.sk-hidden--visually {border: 0;clip: rect(1px 1px 1px 1px);clip: rect(1px, 1px, 1px, 1px);height: 1px;margin: -1px;overflow: hidden;padding: 0;position: absolute;width: 1px;}div.sk-estimator {font-family: monospace;background-color: #f0f8ff;margin: 0.25em 0.25em;border: 1px dotted black;border-radius: 0.25em;box-sizing: border-box;}div.sk-estimator:hover {background-color: #d4ebff;}div.sk-parallel-item::after {content: \"\";width: 100%;border-bottom: 1px solid gray;flex-grow: 1;}div.sk-label:hover label.sk-toggleable__label {background-color: #d4ebff;}div.sk-serial::before {content: \"\";position: absolute;border-left: 1px solid gray;box-sizing: border-box;top: 2em;bottom: 0;left: 50%;}div.sk-serial {display: flex;flex-direction: column;align-items: center;background-color: white;}div.sk-item {z-index: 1;}div.sk-parallel {display: flex;align-items: stretch;justify-content: center;background-color: white;}div.sk-parallel-item {display: flex;flex-direction: column;position: relative;background-color: white;}div.sk-parallel-item:first-child::after {align-self: flex-end;width: 50%;}div.sk-parallel-item:last-child::after {align-self: flex-start;width: 50%;}div.sk-parallel-item:only-child::after {width: 0;}div.sk-dashed-wrapped {border: 1px dashed gray;margin: 0.2em;box-sizing: border-box;padding-bottom: 0.1em;background-color: white;position: relative;}div.sk-label label {font-family: monospace;font-weight: bold;background-color: white;display: inline-block;line-height: 1.2em;}div.sk-label-container {position: relative;z-index: 2;text-align: center;}div.sk-container {display: inline-block;position: relative;}</style><div class=\"sk-top-container\"><div class=\"sk-container\"><div class=\"sk-item sk-dashed-wrapped\"><div class=\"sk-label-container\"><div class=\"sk-label sk-toggleable\"><input class=\"sk-toggleable__control sk-hidden--visually\" id=\"525fbf4d-ccab-4031-ab5b-078fe192881c\" type=\"checkbox\" ><label class=\"sk-toggleable__label\" for=\"525fbf4d-ccab-4031-ab5b-078fe192881c\">Pipeline</label><div class=\"sk-toggleable__content\"><pre>Pipeline(steps=[('standardscaler', StandardScaler()),\n",
       "                ('logisticregression', LogisticRegression())])</pre></div></div></div><div class=\"sk-serial\"><div class=\"sk-item\"><div class=\"sk-estimator sk-toggleable\"><input class=\"sk-toggleable__control sk-hidden--visually\" id=\"e6289065-132b-4b5f-bcbd-c8b96260cb71\" type=\"checkbox\" ><label class=\"sk-toggleable__label\" for=\"e6289065-132b-4b5f-bcbd-c8b96260cb71\">StandardScaler</label><div class=\"sk-toggleable__content\"><pre>StandardScaler()</pre></div></div></div><div class=\"sk-item\"><div class=\"sk-estimator sk-toggleable\"><input class=\"sk-toggleable__control sk-hidden--visually\" id=\"19ddc696-7ceb-4117-8fb6-bf2b9c12b9ed\" type=\"checkbox\" ><label class=\"sk-toggleable__label\" for=\"19ddc696-7ceb-4117-8fb6-bf2b9c12b9ed\">LogisticRegression</label><div class=\"sk-toggleable__content\"><pre>LogisticRegression()</pre></div></div></div></div></div></div></div>"
      ],
      "text/plain": [
       "Pipeline(steps=[('standardscaler', StandardScaler()),\n",
       "                ('logisticregression', LogisticRegression())])"
      ]
     },
     "execution_count": 148,
     "metadata": {},
     "output_type": "execute_result"
    }
   ],
   "source": [
    "model_sc = make_pipeline(StandardScaler(), LogisticRegression())\n",
    "\n",
    "start1 = time.time()\n",
    "model_sc.fit(data_train, target_train)\n",
    "elapsed_time_with_scaling = time.time() - start1\n",
    "\n",
    "model_sc"
   ]
  },
  {
   "cell_type": "markdown",
   "metadata": {},
   "source": [
    "### D.2. Only Logistic Regression"
   ]
  },
  {
   "cell_type": "code",
   "execution_count": 149,
   "metadata": {},
   "outputs": [
    {
     "data": {
      "text/html": [
       "<style>div.sk-top-container {color: black;background-color: white;}div.sk-toggleable {background-color: white;}label.sk-toggleable__label {cursor: pointer;display: block;width: 100%;margin-bottom: 0;padding: 0.2em 0.3em;box-sizing: border-box;text-align: center;}div.sk-toggleable__content {max-height: 0;max-width: 0;overflow: hidden;text-align: left;background-color: #f0f8ff;}div.sk-toggleable__content pre {margin: 0.2em;color: black;border-radius: 0.25em;background-color: #f0f8ff;}input.sk-toggleable__control:checked~div.sk-toggleable__content {max-height: 200px;max-width: 100%;overflow: auto;}div.sk-estimator input.sk-toggleable__control:checked~label.sk-toggleable__label {background-color: #d4ebff;}div.sk-label input.sk-toggleable__control:checked~label.sk-toggleable__label {background-color: #d4ebff;}input.sk-hidden--visually {border: 0;clip: rect(1px 1px 1px 1px);clip: rect(1px, 1px, 1px, 1px);height: 1px;margin: -1px;overflow: hidden;padding: 0;position: absolute;width: 1px;}div.sk-estimator {font-family: monospace;background-color: #f0f8ff;margin: 0.25em 0.25em;border: 1px dotted black;border-radius: 0.25em;box-sizing: border-box;}div.sk-estimator:hover {background-color: #d4ebff;}div.sk-parallel-item::after {content: \"\";width: 100%;border-bottom: 1px solid gray;flex-grow: 1;}div.sk-label:hover label.sk-toggleable__label {background-color: #d4ebff;}div.sk-serial::before {content: \"\";position: absolute;border-left: 1px solid gray;box-sizing: border-box;top: 2em;bottom: 0;left: 50%;}div.sk-serial {display: flex;flex-direction: column;align-items: center;background-color: white;}div.sk-item {z-index: 1;}div.sk-parallel {display: flex;align-items: stretch;justify-content: center;background-color: white;}div.sk-parallel-item {display: flex;flex-direction: column;position: relative;background-color: white;}div.sk-parallel-item:first-child::after {align-self: flex-end;width: 50%;}div.sk-parallel-item:last-child::after {align-self: flex-start;width: 50%;}div.sk-parallel-item:only-child::after {width: 0;}div.sk-dashed-wrapped {border: 1px dashed gray;margin: 0.2em;box-sizing: border-box;padding-bottom: 0.1em;background-color: white;position: relative;}div.sk-label label {font-family: monospace;font-weight: bold;background-color: white;display: inline-block;line-height: 1.2em;}div.sk-label-container {position: relative;z-index: 2;text-align: center;}div.sk-container {display: inline-block;position: relative;}</style><div class=\"sk-top-container\"><div class=\"sk-container\"><div class=\"sk-item\"><div class=\"sk-estimator sk-toggleable\"><input class=\"sk-toggleable__control sk-hidden--visually\" id=\"21c78663-b956-4c2a-9a24-9740c65fb393\" type=\"checkbox\" checked><label class=\"sk-toggleable__label\" for=\"21c78663-b956-4c2a-9a24-9740c65fb393\">LogisticRegression</label><div class=\"sk-toggleable__content\"><pre>LogisticRegression()</pre></div></div></div></div></div>"
      ],
      "text/plain": [
       "LogisticRegression()"
      ]
     },
     "execution_count": 149,
     "metadata": {},
     "output_type": "execute_result"
    }
   ],
   "source": [
    "model_lr = LogisticRegression()\n",
    "\n",
    "start2 = time.time()\n",
    "model_lr.fit(data_train, target_train)\n",
    "elapsed_time_without_scaling = time.time() - start2\n",
    "\n",
    "model_lr"
   ]
  },
  {
   "cell_type": "code",
   "execution_count": 150,
   "metadata": {},
   "outputs": [
    {
     "name": "stdout",
     "output_type": "stream",
     "text": [
      "Pipeline iterations : 14\n",
      "LogisticRegression iterations : 55\n"
     ]
    }
   ],
   "source": [
    "#collapse\n",
    "print(f\"{model_sc.__class__.__name__} iterations : {model_sc[-1].n_iter_[0]}\\n\"\n",
    "      f\"{model_lr.__class__.__name__} iterations : {model_lr.n_iter_[0]}\")"
   ]
  },
  {
   "cell_type": "code",
   "execution_count": 151,
   "metadata": {},
   "outputs": [
    {
     "name": "stdout",
     "output_type": "stream",
     "text": [
      "The ellapsed time for Pipeline : 0.23711895942687988 \n",
      "The ellapsed time for LogisticRegression : 0.6473968029022217\n"
     ]
    }
   ],
   "source": [
    "#collapse\n",
    "print(f\"The ellapsed time for {model_sc.__class__.__name__} : {elapsed_time_with_scaling} \\n\"\n",
    "      f\"The ellapsed time for {model_lr.__class__.__name__} : {elapsed_time_without_scaling}\")"
   ]
  },
  {
   "cell_type": "code",
   "execution_count": 152,
   "metadata": {},
   "outputs": [
    {
     "name": "stdout",
     "output_type": "stream",
     "text": [
      "Pipeline model accuracy : 0.8187699615101138 \n",
      "LogisticRegression model accuracy : 0.8037834739169601\n"
     ]
    }
   ],
   "source": [
    "#collapse\n",
    "score1 = model_sc.score(data_test, target_test)\n",
    "score2 = model_lr.score(data_test, target_test)\n",
    "\n",
    "print(f\"{model_sc.__class__.__name__} model accuracy : {score1} \\n\"\n",
    "      f\"{model_lr.__class__.__name__} model accuracy : {score2}\")"
   ]
  },
  {
   "cell_type": "markdown",
   "metadata": {},
   "source": [
    "Clearly, we observe that model with scaled data does a better job. Hence, scaling is a good practice for a linear model like Logisitic Regression to perform better (not necessarily beneficial for all other models).  "
   ]
  },
  {
   "cell_type": "markdown",
   "metadata": {},
   "source": [
    "\n",
    "- References : \n",
    "\n",
    "    - [Scikit-learn MOOC](https://inria.github.io/scikit-learn-mooc/index.html)\n",
    "\n",
    "# Thank you!"
   ]
  }
 ],
 "metadata": {
  "interpreter": {
   "hash": "569f2759557f92d1fcde61dafd37f364896947f242bf82496b690f31782141e4"
  },
  "kernelspec": {
   "display_name": "Python 3",
   "language": "python",
   "name": "python3"
  },
  "language_info": {
   "codemirror_mode": {
    "name": "ipython",
    "version": 3
   },
   "file_extension": ".py",
   "mimetype": "text/x-python",
   "name": "python",
   "nbconvert_exporter": "python",
   "pygments_lexer": "ipython3",
   "version": "3.8.5"
  }
 },
 "nbformat": 4,
 "nbformat_minor": 4
}
